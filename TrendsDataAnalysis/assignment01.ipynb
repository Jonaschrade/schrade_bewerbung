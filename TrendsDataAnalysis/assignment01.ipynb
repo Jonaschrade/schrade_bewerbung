{
 "cells": [
  {
   "cell_type": "markdown",
   "id": "a72e5cb4",
   "metadata": {},
   "source": [
    "<div style=\"text-align: center;\" >\n",
    "<h1 style=\"margin-top: 0.2em; margin-bottom: 0.1em;\">Assignment 1</h1>\n",
    "<h4 style=\"margin-top: 0.7em; margin-bottom: 0.3em; font-style:italic\">\n",
    "Commit your solutions to our \n",
    "<a href='https://classroom.github.com/a/w67qoR0U'>GitHub Classroom</a>\n",
    "until May 6, 23:59</h4>\n",
    "</div>\n",
    "<br>"
   ]
  },
  {
   "cell_type": "markdown",
   "id": "252b0fe0",
   "metadata": {},
   "source": [
    "## Part 1\n",
    "## Correlation of Future Orientation Index and Gross Domestic Product"
   ]
  },
  {
   "cell_type": "markdown",
   "id": "a82d402b",
   "metadata": {},
   "source": [
    "### Tasks\n",
    "\n",
    "In this exercise, we try to reproduce the findings of the article “Quantifying the Advantage of Looking Forward” http://www.nature.com/articles/srep00350.\n",
    "\n",
    "According to the study, the GDP per capita of countries is positively correlated to how much their population searches in Google for the next year, relative to how much they search for the previous year.\n",
    "\n",
    "This ratio is called the Future Orientation Index (FOI). So for example for the year 2017 the FOI can be calculated as: FOI = number of searches for the term “2018” / number of searches for the term “2016”.\n",
    "\n",
    "You will do the following tasks:\n",
    "1. Aquire World Bank Data\n",
    "2. Calculate the Future Orientation Index in Google Trends\n",
    "3. Test the correlation between GDP and FOI"
   ]
  },
  {
   "cell_type": "markdown",
   "id": "59e59b4b",
   "metadata": {},
   "source": [
    "### Install requirements\n",
    "\n",
    "The following cell contains all the necessary dependencies needed for this task. If you run the cell everything will be installed.  \n",
    "* [`wbgapi`](https://github.com/tgherzog/wbgapi) is a Python package which provides modern, pythonic access to the World Bank's data API. [Here](https://github.com/tgherzog/wbgapi) is the documentation of `wbgapi`.\n",
    "* [`pandas`](https://pandas.pydata.org/docs/index.html) is a Python package for creating and working with tabular data. [Here](https://pandas.pydata.org/docs/reference/index.html) is the documentation of `pandas`.\n",
    "* [`matplotlib`](https://matplotlib.org/) is a Python package for creating plots. [Here](https://matplotlib.org/stable/api/index.html) is the documentation of `matplotlib`.\n",
    "* [`scipy`](https://scipy.org/) is a Python package with different algorithms for scientific computing. [Here](https://docs.scipy.org/doc/scipy/reference/index.html#scipy-api) is the documentation of `scipy`."
   ]
  },
  {
   "cell_type": "code",
   "execution_count": 1,
   "id": "85b72588",
   "metadata": {},
   "outputs": [],
   "source": [
    "# ! pip install wbgapi\n",
    "# ! pip install pandas\n",
    "# ! pip install matplotlib\n",
    "# ! pip install scipy\n",
    "# ! pip install country_converter"
   ]
  },
  {
   "cell_type": "code",
   "execution_count": 2,
   "id": "eb70ed37",
   "metadata": {},
   "outputs": [],
   "source": [
    "import pandas as pd\n",
    "import matplotlib.pyplot as plt\n",
    "import matplotlib.dates as mdates\n",
    "import scipy as sci\n",
    "import wbgapi as wb\n",
    "import country_converter as coco\n",
    "import scipy.stats as stats\n",
    "import statsmodels.api as sm\n",
    "from statsmodels.tsa.ar_model import AutoReg"
   ]
  },
  {
   "cell_type": "markdown",
   "id": "a4b6e3f8",
   "metadata": {},
   "source": [
    "### Exercise 1: World Bank Data *(3 points)*\n",
    "#### 1.1 Download WDI data\n",
    "\n",
    "From the WDI we need three indicators:\n",
    "* Gross Domestic Product (GDP) per capita corrected by the Purchase Power Parity (PPP in current or 2005 international $, `\"NY.GDP.PCAP.PP.KD\"`)\n",
    "* The amount of Internet users (per 100 people, `\"IT.NET.USER.ZS\"`\n",
    "* The total population (described as as \"Population, Total\", `\"SP.POP.TOTL\"`)\n",
    "\n",
    "In the following code chunk, download all data (including extras) for all countries in year 2014 and save it as a pandas data frame. See [here](https://github.com/tgherzog/wbgapi#accessing-data) how to use the `data` subpackage of `wbgapi`.\n",
    "\n",
    "Hint: To remove aggregates (economic regions defined by the World Bank) and include only countries, use `skipAggs=True`."
   ]
  },
  {
   "cell_type": "code",
   "execution_count": 3,
   "id": "75c9b324",
   "metadata": {},
   "outputs": [
    {
     "data": {
      "application/vnd.microsoft.datawrangler.viewer.v0+json": {
       "columns": [
        {
         "name": "economy",
         "rawType": "object",
         "type": "string"
        },
        {
         "name": "IT.NET.USER.ZS",
         "rawType": "float64",
         "type": "float"
        },
        {
         "name": "NY.GDP.PCAP.PP.KD",
         "rawType": "float64",
         "type": "float"
        },
        {
         "name": "SP.POP.TOTL",
         "rawType": "float64",
         "type": "float"
        }
       ],
       "conversionMethod": "pd.DataFrame",
       "ref": "60ef0ecd-f018-45b4-9a06-3271a54a6b81",
       "rows": [
        [
         "ABW",
         "83.8",
         "36275.6809553371",
         "106807.0"
        ],
        [
         "AFG",
         "7.0",
         "3017.94254424696",
         "32792523.0"
        ],
        [
         "AGO",
         "21.4",
         "10250.5924040333",
         "27160769.0"
        ],
        [
         "ALB",
         "54.3",
         "12800.3483106503",
         "2889104.0"
        ],
        [
         "AND",
         "86.1",
         "59929.2444670501",
         "73737.0"
        ],
        [
         "ARE",
         "90.4",
         "69409.0370433601",
         "8059440.0"
        ],
        [
         "ARG",
         "64.7",
         "28200.8152571318",
         "43024071.0"
        ],
        [
         "ARM",
         "54.6",
         "12667.3757330249",
         "3013800.0"
        ],
        [
         "ASM",
         null,
         null,
         "53466.0"
        ],
        [
         "ATG",
         "67.8",
         "25565.9656842771",
         "88765.0"
        ],
        [
         "AUS",
         "84.0",
         "55288.1153378005",
         "23475686.0"
        ],
        [
         "AUT",
         "81.0",
         "60919.8406958317",
         "8546356.0"
        ],
        [
         "AZE",
         "75.0",
         "20716.1415229269",
         "9535079.0"
        ],
        [
         "BDI",
         "1.04",
         "977.765840288134",
         "10799785.0"
        ],
        [
         "BEL",
         "85.0",
         "57028.0625939732",
         "11209057.0"
        ],
        [
         "BEN",
         "6.0",
         "2987.38236326153",
         "11030004.0"
        ],
        [
         "BFA",
         "6.0",
         "2083.19844698304",
         "18229461.0"
        ],
        [
         "BGD",
         "11.9",
         "5068.63965672741",
         "157964929.0"
        ],
        [
         "BGR",
         "55.5",
         "22959.6388322803",
         "7223938.0"
        ],
        [
         "BHR",
         "90.5",
         "55065.8189472129",
         "1314562.0"
        ],
        [
         "BHS",
         "76.9",
         "32226.9236150679",
         "382298.0"
        ],
        [
         "BIH",
         "49.9",
         "13455.2947498542",
         "3564829.0"
        ],
        [
         "BLR",
         "59.0",
         "26564.4347191137",
         "9448515.0"
        ],
        [
         "BLZ",
         "38.7",
         "12249.2214195699",
         "348923.0"
        ],
        [
         "BMU",
         "96.8",
         "92298.3878105064",
         "63529.0"
        ],
        [
         "BOL",
         "34.6",
         "8851.71163169903",
         "10848888.0"
        ],
        [
         "BRA",
         "54.6",
         "19183.172746126",
         "200085127.0"
        ],
        [
         "BRB",
         "71.9",
         "18665.1769798481",
         "278348.0"
        ],
        [
         "BRN",
         "68.8",
         "83310.6150641982",
         "416750.0"
        ],
        [
         "BTN",
         "30.3",
         "11744.5189049643",
         "733139.0"
        ],
        [
         "BWA",
         "36.7",
         "17052.2296573784",
         "2172044.0"
        ],
        [
         "CAF",
         "2.7",
         "1001.85598053496",
         "4623182.0"
        ],
        [
         "CAN",
         "87.1",
         "55661.3651246938",
         "35434066.0"
        ],
        [
         "CHE",
         "83.6",
         "76132.9722101659",
         "8188649.0"
        ],
        [
         "CHI",
         null,
         null,
         "162726.0"
        ],
        [
         "CHL",
         "61.1",
         "27516.8705266845",
         "17864195.0"
        ],
        [
         "CHN",
         "47.9",
         "13696.5174948492",
         "1371860000.0"
        ],
        [
         "CIV",
         "10.0",
         "4907.57450294516",
         "24527395.0"
        ],
        [
         "CMR",
         "16.2",
         "4588.4864949903",
         "22059893.0"
        ],
        [
         "COD",
         "3.0",
         "1225.70218711959",
         "78403242.0"
        ],
        [
         "COG",
         "7.11",
         "9159.25664414045",
         "4975880.0"
        ],
        [
         "COL",
         "52.6",
         "16480.3631474161",
         "46565429.0"
        ],
        [
         "COM",
         "6.98",
         "3397.09258757941",
         "711503.0"
        ],
        [
         "CPV",
         "40.3",
         "7491.02198228243",
         "512326.0"
        ],
        [
         "CRI",
         "53.0",
         "20724.9217693423",
         "4767119.0"
        ],
        [
         "CUB",
         "29.1",
         null,
         "11285775.0"
        ],
        [
         "CUW",
         null,
         "31128.8038519933",
         "155909.0"
        ],
        [
         "CYM",
         "74.1",
         "73017.594917444",
         "60160.0"
        ],
        [
         "CYP",
         "69.3",
         "36444.6171875",
         "1201801.0"
        ],
        [
         "CZE",
         "74.2",
         "40158.0164293443",
         "10525347.0"
        ]
       ],
       "shape": {
        "columns": 3,
        "rows": 217
       }
      },
      "text/html": [
       "<div>\n",
       "<style scoped>\n",
       "    .dataframe tbody tr th:only-of-type {\n",
       "        vertical-align: middle;\n",
       "    }\n",
       "\n",
       "    .dataframe tbody tr th {\n",
       "        vertical-align: top;\n",
       "    }\n",
       "\n",
       "    .dataframe thead th {\n",
       "        text-align: right;\n",
       "    }\n",
       "</style>\n",
       "<table border=\"1\" class=\"dataframe\">\n",
       "  <thead>\n",
       "    <tr style=\"text-align: right;\">\n",
       "      <th></th>\n",
       "      <th>IT.NET.USER.ZS</th>\n",
       "      <th>NY.GDP.PCAP.PP.KD</th>\n",
       "      <th>SP.POP.TOTL</th>\n",
       "    </tr>\n",
       "    <tr>\n",
       "      <th>economy</th>\n",
       "      <th></th>\n",
       "      <th></th>\n",
       "      <th></th>\n",
       "    </tr>\n",
       "  </thead>\n",
       "  <tbody>\n",
       "    <tr>\n",
       "      <th>ABW</th>\n",
       "      <td>83.8</td>\n",
       "      <td>36275.680955</td>\n",
       "      <td>106807.0</td>\n",
       "    </tr>\n",
       "    <tr>\n",
       "      <th>AFG</th>\n",
       "      <td>7.0</td>\n",
       "      <td>3017.942544</td>\n",
       "      <td>32792523.0</td>\n",
       "    </tr>\n",
       "    <tr>\n",
       "      <th>AGO</th>\n",
       "      <td>21.4</td>\n",
       "      <td>10250.592404</td>\n",
       "      <td>27160769.0</td>\n",
       "    </tr>\n",
       "    <tr>\n",
       "      <th>ALB</th>\n",
       "      <td>54.3</td>\n",
       "      <td>12800.348311</td>\n",
       "      <td>2889104.0</td>\n",
       "    </tr>\n",
       "    <tr>\n",
       "      <th>AND</th>\n",
       "      <td>86.1</td>\n",
       "      <td>59929.244467</td>\n",
       "      <td>73737.0</td>\n",
       "    </tr>\n",
       "    <tr>\n",
       "      <th>...</th>\n",
       "      <td>...</td>\n",
       "      <td>...</td>\n",
       "      <td>...</td>\n",
       "    </tr>\n",
       "    <tr>\n",
       "      <th>XKX</th>\n",
       "      <td>NaN</td>\n",
       "      <td>9150.749973</td>\n",
       "      <td>1812788.0</td>\n",
       "    </tr>\n",
       "    <tr>\n",
       "      <th>YEM</th>\n",
       "      <td>22.6</td>\n",
       "      <td>NaN</td>\n",
       "      <td>30226309.0</td>\n",
       "    </tr>\n",
       "    <tr>\n",
       "      <th>ZAF</th>\n",
       "      <td>49.0</td>\n",
       "      <td>14661.262435</td>\n",
       "      <td>55594838.0</td>\n",
       "    </tr>\n",
       "    <tr>\n",
       "      <th>ZMB</th>\n",
       "      <td>6.5</td>\n",
       "      <td>3585.577485</td>\n",
       "      <td>15895315.0</td>\n",
       "    </tr>\n",
       "    <tr>\n",
       "      <th>ZWE</th>\n",
       "      <td>16.4</td>\n",
       "      <td>3360.552173</td>\n",
       "      <td>14207359.0</td>\n",
       "    </tr>\n",
       "  </tbody>\n",
       "</table>\n",
       "<p>217 rows × 3 columns</p>\n",
       "</div>"
      ],
      "text/plain": [
       "         IT.NET.USER.ZS  NY.GDP.PCAP.PP.KD  SP.POP.TOTL\n",
       "economy                                                \n",
       "ABW                83.8       36275.680955     106807.0\n",
       "AFG                 7.0        3017.942544   32792523.0\n",
       "AGO                21.4       10250.592404   27160769.0\n",
       "ALB                54.3       12800.348311    2889104.0\n",
       "AND                86.1       59929.244467      73737.0\n",
       "...                 ...                ...          ...\n",
       "XKX                 NaN        9150.749973    1812788.0\n",
       "YEM                22.6                NaN   30226309.0\n",
       "ZAF                49.0       14661.262435   55594838.0\n",
       "ZMB                 6.5        3585.577485   15895315.0\n",
       "ZWE                16.4        3360.552173   14207359.0\n",
       "\n",
       "[217 rows x 3 columns]"
      ]
     },
     "execution_count": 3,
     "metadata": {},
     "output_type": "execute_result"
    }
   ],
   "source": [
    "# Downloading world bank data using wbi API\n",
    "wdi_data=wb.data.DataFrame(['NY.GDP.PCAP.PP.KD',\"IT.NET.USER.ZS\", \"SP.POP.TOTL\"], time=2014,skipAggs=True)\n",
    "wdi_data"
   ]
  },
  {
   "cell_type": "markdown",
   "id": "4e35e271",
   "metadata": {},
   "source": [
    "Now drop any row that has `NaN` for this you can use `pandas` [`dropna`](https://pandas.pydata.org/docs/reference/api/pandas.DataFrame.dropna.html) method."
   ]
  },
  {
   "cell_type": "code",
   "execution_count": 4,
   "id": "77b5278e",
   "metadata": {},
   "outputs": [],
   "source": [
    "# Removing NA's and reseting index column so country code is regular column\n",
    "wdi_data.dropna(inplace=True)\n",
    "wdi_data.reset_index(inplace=True)"
   ]
  },
  {
   "cell_type": "markdown",
   "id": "4854dd95",
   "metadata": {},
   "source": [
    "Next only keep rows where there are at least 5 Million internet users. Keep in Mind that the Internet Users are per 100 people, so don't forget to take the population into account.\n",
    "\n",
    "For example in the dataset Austria has 80.995825 internet users per 100 people, while 8546356 people living in Austria. This means Austria has 6922191.55 internet users in total. The calculation for that is as follows:\n",
    "<br>\n",
    "\n",
    "$$\n",
    "\\begin{align}\n",
    "internet\\_users = population \\cdot \\frac{internet\\_user\\_per\\_100}{100}\n",
    "\\end{align}\n",
    "$$\n"
   ]
  },
  {
   "cell_type": "code",
   "execution_count": 5,
   "id": "6ffe01e2",
   "metadata": {},
   "outputs": [
    {
     "data": {
      "application/vnd.microsoft.datawrangler.viewer.v0+json": {
       "columns": [
        {
         "name": "index",
         "rawType": "int64",
         "type": "integer"
        },
        {
         "name": "economy",
         "rawType": "object",
         "type": "string"
        },
        {
         "name": "IT.NET.USER.ZS",
         "rawType": "float64",
         "type": "float"
        },
        {
         "name": "NY.GDP.PCAP.PP.KD",
         "rawType": "float64",
         "type": "float"
        },
        {
         "name": "SP.POP.TOTL",
         "rawType": "float64",
         "type": "float"
        }
       ],
       "conversionMethod": "pd.DataFrame",
       "ref": "f6f0b349-72a8-4371-8255-532c52b1a6a4",
       "rows": [
        [
         "2",
         "AGO",
         "21.4",
         "10250.5924040333",
         "27160769.0"
        ],
        [
         "5",
         "ARE",
         "90.4",
         "69409.0370433601",
         "8059440.0"
        ],
        [
         "6",
         "ARG",
         "64.7",
         "28200.8152571318",
         "43024071.0"
        ],
        [
         "9",
         "AUS",
         "84.0",
         "55288.1153378005",
         "23475686.0"
        ],
        [
         "10",
         "AUT",
         "81.0",
         "60919.8406958317",
         "8546356.0"
        ],
        [
         "11",
         "AZE",
         "75.0",
         "20716.1415229269",
         "9535079.0"
        ],
        [
         "13",
         "BEL",
         "85.0",
         "57028.0625939732",
         "11209057.0"
        ],
        [
         "16",
         "BGD",
         "11.9",
         "5068.63965672741",
         "157964929.0"
        ],
        [
         "21",
         "BLR",
         "59.0",
         "26564.4347191137",
         "9448515.0"
        ],
        [
         "25",
         "BRA",
         "54.6",
         "19183.172746126",
         "200085127.0"
        ],
        [
         "31",
         "CAN",
         "87.1",
         "55661.3651246938",
         "35434066.0"
        ],
        [
         "32",
         "CHE",
         "83.6",
         "76132.9722101659",
         "8188649.0"
        ],
        [
         "33",
         "CHL",
         "61.1",
         "27516.8705266845",
         "17864195.0"
        ],
        [
         "34",
         "CHN",
         "47.9",
         "13696.5174948492",
         "1371860000.0"
        ],
        [
         "39",
         "COL",
         "52.6",
         "16480.3631474161",
         "46565429.0"
        ],
        [
         "45",
         "CZE",
         "74.2",
         "40158.0164293443",
         "10525347.0"
        ],
        [
         "46",
         "DEU",
         "86.2",
         "59239.3401157716",
         "80982500.0"
        ],
        [
         "49",
         "DNK",
         "96.0",
         "61047.3337168943",
         "5643475.0"
        ],
        [
         "50",
         "DOM",
         "49.6",
         "16817.6442268689",
         "10315528.0"
        ],
        [
         "51",
         "DZA",
         "29.5",
         "15073.7629403724",
         "39205031.0"
        ],
        [
         "52",
         "ECU",
         "45.6",
         "14047.4913782084",
         "16035124.0"
        ],
        [
         "53",
         "EGY",
         "33.9",
         "13136.365629827",
         "97528654.0"
        ],
        [
         "54",
         "ESP",
         "76.2",
         "41321.490912675",
         "46480882.0"
        ],
        [
         "56",
         "ETH",
         "7.7",
         "1821.39152446688",
         "101115610.0"
        ],
        [
         "59",
         "FRA",
         "83.8",
         "50326.5678638035",
         "66312067.0"
        ],
        [
         "63",
         "GBR",
         "91.6",
         "49264.0553741224",
         "64602298.0"
        ],
        [
         "65",
         "GHA",
         "19.0",
         "5619.07233511591",
         "28041592.0"
        ],
        [
         "70",
         "GRC",
         "63.2",
         "31213.376451539",
         "10892413.0"
        ],
        [
         "75",
         "HKG",
         "79.9",
         "61839.7914288728",
         "7229500.0"
        ],
        [
         "79",
         "HUN",
         "75.7",
         "30205.5060344521",
         "9866468.0"
        ],
        [
         "80",
         "IDN",
         "17.1",
         "10504.3869411088",
         "258877399.0"
        ],
        [
         "81",
         "IND",
         "13.5",
         "6079.84393523695",
         "1312277191.0"
        ],
        [
         "83",
         "IRN",
         "39.4",
         "14299.5717729808",
         "81502045.0"
        ],
        [
         "86",
         "ISR",
         "75.0",
         "40623.8421581639",
         "8215700.0"
        ],
        [
         "87",
         "ITA",
         "55.6",
         "46464.8189164575",
         "60789140.0"
        ],
        [
         "90",
         "JPN",
         "89.1",
         "42683.7754496421",
         "127276000.0"
        ],
        [
         "91",
         "KAZ",
         "66.0",
         "30986.4379168995",
         "17816285.0"
        ],
        [
         "92",
         "KEN",
         "16.5",
         "4558.55155266374",
         "46051440.0"
        ],
        [
         "97",
         "KOR",
         "87.6",
         "41518.0942296892",
         "50746659.0"
        ],
        [
         "110",
         "MAR",
         "56.8",
         "7951.79833984375",
         "34204780.0"
        ],
        [
         "114",
         "MEX",
         "44.4",
         "21069.76616886",
         "119784261.0"
        ],
        [
         "126",
         "MYS",
         "63.7",
         "26818.4317281659",
         "30696137.0"
        ],
        [
         "129",
         "NGA",
         "21.0",
         "5980.191816483",
         "185896915.0"
        ],
        [
         "131",
         "NLD",
         "91.7",
         "62045.8564005806",
         "16865008.0"
        ],
        [
         "136",
         "PAK",
         "10.0",
         "4520.23463399286",
         "214264647.0"
        ],
        [
         "138",
         "PER",
         "40.2",
         "14247.1010019489",
         "30115826.0"
        ],
        [
         "139",
         "PHL",
         "34.7",
         "7340.36158580785",
         "103767130.0"
        ],
        [
         "141",
         "POL",
         "66.6",
         "30334.8786569618",
         "38011735.0"
        ],
        [
         "143",
         "PRT",
         "64.6",
         "35097.4096978696",
         "10401062.0"
        ],
        [
         "147",
         "ROU",
         "54.1",
         "28154.7373884737",
         "19908979.0"
        ]
       ],
       "shape": {
        "columns": 4,
        "rows": 62
       }
      },
      "text/html": [
       "<div>\n",
       "<style scoped>\n",
       "    .dataframe tbody tr th:only-of-type {\n",
       "        vertical-align: middle;\n",
       "    }\n",
       "\n",
       "    .dataframe tbody tr th {\n",
       "        vertical-align: top;\n",
       "    }\n",
       "\n",
       "    .dataframe thead th {\n",
       "        text-align: right;\n",
       "    }\n",
       "</style>\n",
       "<table border=\"1\" class=\"dataframe\">\n",
       "  <thead>\n",
       "    <tr style=\"text-align: right;\">\n",
       "      <th></th>\n",
       "      <th>economy</th>\n",
       "      <th>IT.NET.USER.ZS</th>\n",
       "      <th>NY.GDP.PCAP.PP.KD</th>\n",
       "      <th>SP.POP.TOTL</th>\n",
       "    </tr>\n",
       "  </thead>\n",
       "  <tbody>\n",
       "    <tr>\n",
       "      <th>2</th>\n",
       "      <td>AGO</td>\n",
       "      <td>21.4</td>\n",
       "      <td>10250.592404</td>\n",
       "      <td>27160769.0</td>\n",
       "    </tr>\n",
       "    <tr>\n",
       "      <th>5</th>\n",
       "      <td>ARE</td>\n",
       "      <td>90.4</td>\n",
       "      <td>69409.037043</td>\n",
       "      <td>8059440.0</td>\n",
       "    </tr>\n",
       "    <tr>\n",
       "      <th>6</th>\n",
       "      <td>ARG</td>\n",
       "      <td>64.7</td>\n",
       "      <td>28200.815257</td>\n",
       "      <td>43024071.0</td>\n",
       "    </tr>\n",
       "    <tr>\n",
       "      <th>9</th>\n",
       "      <td>AUS</td>\n",
       "      <td>84.0</td>\n",
       "      <td>55288.115338</td>\n",
       "      <td>23475686.0</td>\n",
       "    </tr>\n",
       "    <tr>\n",
       "      <th>10</th>\n",
       "      <td>AUT</td>\n",
       "      <td>81.0</td>\n",
       "      <td>60919.840696</td>\n",
       "      <td>8546356.0</td>\n",
       "    </tr>\n",
       "    <tr>\n",
       "      <th>...</th>\n",
       "      <td>...</td>\n",
       "      <td>...</td>\n",
       "      <td>...</td>\n",
       "      <td>...</td>\n",
       "    </tr>\n",
       "    <tr>\n",
       "      <th>179</th>\n",
       "      <td>UKR</td>\n",
       "      <td>46.2</td>\n",
       "      <td>16978.812500</td>\n",
       "      <td>45972380.0</td>\n",
       "    </tr>\n",
       "    <tr>\n",
       "      <th>181</th>\n",
       "      <td>USA</td>\n",
       "      <td>73.0</td>\n",
       "      <td>63191.247781</td>\n",
       "      <td>318386329.0</td>\n",
       "    </tr>\n",
       "    <tr>\n",
       "      <th>182</th>\n",
       "      <td>UZB</td>\n",
       "      <td>35.5</td>\n",
       "      <td>7145.109807</td>\n",
       "      <td>30222994.0</td>\n",
       "    </tr>\n",
       "    <tr>\n",
       "      <th>185</th>\n",
       "      <td>VNM</td>\n",
       "      <td>41.0</td>\n",
       "      <td>8751.882806</td>\n",
       "      <td>91679578.0</td>\n",
       "    </tr>\n",
       "    <tr>\n",
       "      <th>188</th>\n",
       "      <td>ZAF</td>\n",
       "      <td>49.0</td>\n",
       "      <td>14661.262435</td>\n",
       "      <td>55594838.0</td>\n",
       "    </tr>\n",
       "  </tbody>\n",
       "</table>\n",
       "<p>62 rows × 4 columns</p>\n",
       "</div>"
      ],
      "text/plain": [
       "    economy  IT.NET.USER.ZS  NY.GDP.PCAP.PP.KD  SP.POP.TOTL\n",
       "2       AGO            21.4       10250.592404   27160769.0\n",
       "5       ARE            90.4       69409.037043    8059440.0\n",
       "6       ARG            64.7       28200.815257   43024071.0\n",
       "9       AUS            84.0       55288.115338   23475686.0\n",
       "10      AUT            81.0       60919.840696    8546356.0\n",
       "..      ...             ...                ...          ...\n",
       "179     UKR            46.2       16978.812500   45972380.0\n",
       "181     USA            73.0       63191.247781  318386329.0\n",
       "182     UZB            35.5        7145.109807   30222994.0\n",
       "185     VNM            41.0        8751.882806   91679578.0\n",
       "188     ZAF            49.0       14661.262435   55594838.0\n",
       "\n",
       "[62 rows x 4 columns]"
      ]
     },
     "execution_count": 5,
     "metadata": {},
     "output_type": "execute_result"
    }
   ],
   "source": [
    "# Adjusting the data on internet users \n",
    "wdi_data=wdi_data[(wdi_data[\"IT.NET.USER.ZS\"]/100)*wdi_data[\"SP.POP.TOTL\"]>=5000000]\n",
    "wdi_data"
   ]
  },
  {
   "cell_type": "markdown",
   "id": "d4f8562a",
   "metadata": {},
   "source": [
    "### Exercise 2: The Future Orientation Index in Google Trends *(3 points)*\n",
    "#### 2.1 Download data from Google Trends\n",
    "\n",
    "You can download the data from Google Trends following these steps:\n",
    "\n",
    "1) Log out from your google account or set its language to English\n",
    "\n",
    "2) Go to trends.google.com and search for 2013 \n",
    "\n",
    "3) Add 2015 as a search term\n",
    "\n",
    "4) Select custom time rage: full year: 2014\n",
    "\n",
    "5) Set the region to “Worldwide”. You can also try with this link (it links to the google trends page with all settings from above applied): https://trends.google.com/trends/explore?date=2014-01-01%202014-12-31&q=2013,2015\n",
    "\n",
    "6) Go to the map at “Compared breakdown by region” and tick on “include low search volume regions”\n",
    "\n",
    "7) On the top right menu click the download button to get a geoMap.csv file\n",
    "\n",
    "Load the .csv file in a pandas data frame. Notice in the file the first 3 Lines are actually only information (while the third is the header). You can skip these lines by using `skiprows=3` in `pd.read_csv`. Set the headers to `\"Country\", \"G2013\", \"G2015\"`, this can be done by the keyword argument `names` in `pd.read_csv`.\n",
    "\n",
    "Now remove again all rows containing `NaN`.\n",
    "\n",
    "All the percentage data is saved as a string containing the `%` symbol. You can remove this with `pandas` [`str.replace`](https://pandas.pydata.org/docs/reference/api/pandas.Series.str.replace.html) method and save them as integer with `pandas` [`astype`](https://pandas.pydata.org/docs/reference/api/pandas.DataFrame.astype.html) method. Do this for column `G2013` and `G2015`.\n"
   ]
  },
  {
   "cell_type": "code",
   "execution_count": 6,
   "id": "21d49e0b",
   "metadata": {},
   "outputs": [
    {
     "data": {
      "application/vnd.microsoft.datawrangler.viewer.v0+json": {
       "columns": [
        {
         "name": "index",
         "rawType": "int64",
         "type": "integer"
        },
        {
         "name": "country",
         "rawType": "object",
         "type": "string"
        },
        {
         "name": "G2013",
         "rawType": "Int32",
         "type": "integer"
        },
        {
         "name": "G2015",
         "rawType": "Int32",
         "type": "integer"
        }
       ],
       "conversionMethod": "pd.DataFrame",
       "ref": "81e0b4fa-6b9f-4a9e-87f8-e52f9a12fd4d",
       "rows": [
        [
         "0",
         "Algeria",
         "65",
         "35"
        ],
        [
         "1",
         "Moldova",
         "88",
         "12"
        ],
        [
         "2",
         "Armenia",
         "86",
         "14"
        ],
        [
         "3",
         "Pakistan",
         "84",
         "16"
        ],
        [
         "4",
         "Wallis & Futuna",
         "100",
         null
        ],
        [
         "5",
         "Kazakhstan",
         "81",
         "19"
        ],
        [
         "6",
         "Tanzania",
         "87",
         "13"
        ],
        [
         "7",
         "Azerbaijan",
         "74",
         "26"
        ],
        [
         "8",
         "Iraq",
         "56",
         "44"
        ],
        [
         "9",
         "Morocco",
         "68",
         "32"
        ],
        [
         "10",
         "Mauritius",
         "78",
         "22"
        ],
        [
         "11",
         "Egypt",
         "66",
         "34"
        ],
        [
         "12",
         "Cuba",
         "65",
         "35"
        ],
        [
         "13",
         "São Tomé & Príncipe",
         "77",
         "23"
        ],
        [
         "14",
         "Turkmenistan",
         "59",
         "41"
        ],
        [
         "15",
         "Tunisia",
         "73",
         "27"
        ],
        [
         "16",
         "Romania",
         "77",
         "23"
        ],
        [
         "17",
         "Ukraine",
         "79",
         "21"
        ],
        [
         "18",
         "Senegal",
         "72",
         "28"
        ],
        [
         "19",
         "Philippines",
         "78",
         "22"
        ],
        [
         "20",
         "Vietnam",
         "76",
         "24"
        ],
        [
         "21",
         "Comoros",
         "64",
         "36"
        ],
        [
         "22",
         "Palestine",
         "82",
         "18"
        ],
        [
         "23",
         "Sri Lanka",
         "77",
         "23"
        ],
        [
         "24",
         "Oman",
         "66",
         "34"
        ],
        [
         "25",
         "Kyrgyzstan",
         "77",
         "23"
        ],
        [
         "26",
         "Cambodia",
         "68",
         "32"
        ],
        [
         "27",
         "Belarus",
         "77",
         "23"
        ],
        [
         "28",
         "India",
         "73",
         "27"
        ],
        [
         "29",
         "Libya",
         "69",
         "31"
        ],
        [
         "30",
         "Kosovo",
         "76",
         "24"
        ],
        [
         "31",
         "Cape Verde",
         "68",
         "32"
        ],
        [
         "32",
         "Botswana",
         "76",
         "24"
        ],
        [
         "33",
         "Bhutan",
         "68",
         "32"
        ],
        [
         "34",
         "United Arab Emirates",
         "67",
         "33"
        ],
        [
         "35",
         "Indonesia",
         "75",
         "25"
        ],
        [
         "36",
         "Jamaica",
         "79",
         "21"
        ],
        [
         "37",
         "Qatar",
         "67",
         "33"
        ],
        [
         "38",
         "Cameroon",
         "60",
         "40"
        ],
        [
         "39",
         "Tajikistan",
         "79",
         "21"
        ],
        [
         "40",
         "Djibouti",
         "71",
         "29"
        ],
        [
         "41",
         "Trinidad & Tobago",
         "64",
         "36"
        ],
        [
         "42",
         "Brunei",
         "71",
         "29"
        ],
        [
         "43",
         "Togo",
         "55",
         "45"
        ],
        [
         "44",
         "Lesotho",
         "73",
         "27"
        ],
        [
         "45",
         "Bahrain",
         "64",
         "36"
        ],
        [
         "46",
         "Guinea-Bissau",
         "69",
         "31"
        ],
        [
         "47",
         "Kiribati",
         "73",
         "27"
        ],
        [
         "48",
         "Maldives",
         "79",
         "21"
        ],
        [
         "49",
         "Uzbekistan",
         "72",
         "28"
        ]
       ],
       "shape": {
        "columns": 3,
        "rows": 250
       }
      },
      "text/html": [
       "<div>\n",
       "<style scoped>\n",
       "    .dataframe tbody tr th:only-of-type {\n",
       "        vertical-align: middle;\n",
       "    }\n",
       "\n",
       "    .dataframe tbody tr th {\n",
       "        vertical-align: top;\n",
       "    }\n",
       "\n",
       "    .dataframe thead th {\n",
       "        text-align: right;\n",
       "    }\n",
       "</style>\n",
       "<table border=\"1\" class=\"dataframe\">\n",
       "  <thead>\n",
       "    <tr style=\"text-align: right;\">\n",
       "      <th></th>\n",
       "      <th>country</th>\n",
       "      <th>G2013</th>\n",
       "      <th>G2015</th>\n",
       "    </tr>\n",
       "  </thead>\n",
       "  <tbody>\n",
       "    <tr>\n",
       "      <th>0</th>\n",
       "      <td>Algeria</td>\n",
       "      <td>65</td>\n",
       "      <td>35</td>\n",
       "    </tr>\n",
       "    <tr>\n",
       "      <th>1</th>\n",
       "      <td>Moldova</td>\n",
       "      <td>88</td>\n",
       "      <td>12</td>\n",
       "    </tr>\n",
       "    <tr>\n",
       "      <th>2</th>\n",
       "      <td>Armenia</td>\n",
       "      <td>86</td>\n",
       "      <td>14</td>\n",
       "    </tr>\n",
       "    <tr>\n",
       "      <th>3</th>\n",
       "      <td>Pakistan</td>\n",
       "      <td>84</td>\n",
       "      <td>16</td>\n",
       "    </tr>\n",
       "    <tr>\n",
       "      <th>4</th>\n",
       "      <td>Wallis &amp; Futuna</td>\n",
       "      <td>100</td>\n",
       "      <td>&lt;NA&gt;</td>\n",
       "    </tr>\n",
       "    <tr>\n",
       "      <th>...</th>\n",
       "      <td>...</td>\n",
       "      <td>...</td>\n",
       "      <td>...</td>\n",
       "    </tr>\n",
       "    <tr>\n",
       "      <th>245</th>\n",
       "      <td>Western Sahara</td>\n",
       "      <td>&lt;NA&gt;</td>\n",
       "      <td>&lt;NA&gt;</td>\n",
       "    </tr>\n",
       "    <tr>\n",
       "      <th>246</th>\n",
       "      <td>South Georgia &amp; South Sandwich Islands</td>\n",
       "      <td>&lt;NA&gt;</td>\n",
       "      <td>&lt;NA&gt;</td>\n",
       "    </tr>\n",
       "    <tr>\n",
       "      <th>247</th>\n",
       "      <td>North Korea</td>\n",
       "      <td>&lt;NA&gt;</td>\n",
       "      <td>&lt;NA&gt;</td>\n",
       "    </tr>\n",
       "    <tr>\n",
       "      <th>248</th>\n",
       "      <td>Heard &amp; McDonald Islands</td>\n",
       "      <td>&lt;NA&gt;</td>\n",
       "      <td>&lt;NA&gt;</td>\n",
       "    </tr>\n",
       "    <tr>\n",
       "      <th>249</th>\n",
       "      <td>Pitcairn Islands</td>\n",
       "      <td>&lt;NA&gt;</td>\n",
       "      <td>&lt;NA&gt;</td>\n",
       "    </tr>\n",
       "  </tbody>\n",
       "</table>\n",
       "<p>250 rows × 3 columns</p>\n",
       "</div>"
      ],
      "text/plain": [
       "                                    country  G2013  G2015\n",
       "0                                   Algeria     65     35\n",
       "1                                   Moldova     88     12\n",
       "2                                   Armenia     86     14\n",
       "3                                  Pakistan     84     16\n",
       "4                           Wallis & Futuna    100   <NA>\n",
       "..                                      ...    ...    ...\n",
       "245                          Western Sahara   <NA>   <NA>\n",
       "246  South Georgia & South Sandwich Islands   <NA>   <NA>\n",
       "247                             North Korea   <NA>   <NA>\n",
       "248                Heard & McDonald Islands   <NA>   <NA>\n",
       "249                        Pitcairn Islands   <NA>   <NA>\n",
       "\n",
       "[250 rows x 3 columns]"
      ]
     },
     "execution_count": 6,
     "metadata": {},
     "output_type": "execute_result"
    }
   ],
   "source": [
    "# Loading and preparing the trend data\n",
    "\n",
    "google_trends=pd.read_csv(\"geoMap.csv\",skiprows=3,names=[\"country\", \"G2013\",\"G2015\" ])\n",
    "google_trends[\"G2013\"]=google_trends[\"G2013\"].str.replace(\"%\",\"\").astype(\"Int32\")\n",
    "google_trends[\"G2015\"]=google_trends[\"G2015\"].str.replace(\"%\",\"\").astype(\"Int32\")\n",
    "\n",
    "google_trends"
   ]
  },
  {
   "cell_type": "markdown",
   "id": "2afa666c",
   "metadata": {},
   "source": [
    "#### 2.2 Calculate the Future Orientation Index\n",
    "\n",
    "In the following code chunk, make a new column in the Google Trends dataframe with the Future Orientation Index, which is the ratio between the search volume for 2015 and 2013 in 2014 for each country"
   ]
  },
  {
   "cell_type": "code",
   "execution_count": 7,
   "id": "5441e4cb",
   "metadata": {},
   "outputs": [],
   "source": [
    "# Calculating FOI\n",
    "google_trends[\"FOI\"]=google_trends[\"G2015\"]/google_trends[\"G2013\"]\n",
    "google_trends.dropna(subset=[\"FOI\"],inplace=True)"
   ]
  },
  {
   "cell_type": "markdown",
   "id": "f3322c9c",
   "metadata": {},
   "source": [
    "#### 2.3 Merge with World Bank data\n",
    "\n",
    "Merge the WDI and google trends data frames, using the name of the country. For this you can use `pandas` [`merge`](https://pandas.pydata.org/docs/reference/api/pandas.DataFrame.merge.html) method."
   ]
  },
  {
   "cell_type": "code",
   "execution_count": 8,
   "id": "67058308",
   "metadata": {},
   "outputs": [
    {
     "name": "stderr",
     "output_type": "stream",
     "text": [
      "C:\\Users\\jonas\\AppData\\Local\\Temp\\ipykernel_12616\\1897848835.py:2: SettingWithCopyWarning: \n",
      "A value is trying to be set on a copy of a slice from a DataFrame.\n",
      "Try using .loc[row_indexer,col_indexer] = value instead\n",
      "\n",
      "See the caveats in the documentation: https://pandas.pydata.org/pandas-docs/stable/user_guide/indexing.html#returning-a-view-versus-a-copy\n",
      "  wdi_data[\"country\"]=coco.CountryConverter().pandas_convert(wdi_data[\"economy\"], to=\"name_short\")\n"
     ]
    },
    {
     "data": {
      "application/vnd.microsoft.datawrangler.viewer.v0+json": {
       "columns": [
        {
         "name": "index",
         "rawType": "int64",
         "type": "integer"
        },
        {
         "name": "economy",
         "rawType": "object",
         "type": "string"
        },
        {
         "name": "IT.NET.USER.ZS",
         "rawType": "float64",
         "type": "float"
        },
        {
         "name": "NY.GDP.PCAP.PP.KD",
         "rawType": "float64",
         "type": "float"
        },
        {
         "name": "SP.POP.TOTL",
         "rawType": "float64",
         "type": "float"
        },
        {
         "name": "country",
         "rawType": "object",
         "type": "string"
        },
        {
         "name": "G2013",
         "rawType": "Int32",
         "type": "integer"
        },
        {
         "name": "G2015",
         "rawType": "Int32",
         "type": "integer"
        },
        {
         "name": "FOI",
         "rawType": "Float64",
         "type": "float"
        }
       ],
       "conversionMethod": "pd.DataFrame",
       "ref": "1409f5f7-21de-4f07-863f-0d80a9c813cd",
       "rows": [
        [
         "0",
         "AGO",
         "21.4",
         "10250.5924040333",
         "27160769.0",
         "Angola",
         "68",
         "32",
         "0.47058823529411764"
        ],
        [
         "1",
         "ARE",
         "90.4",
         "69409.0370433601",
         "8059440.0",
         "United Arab Emirates",
         "67",
         "33",
         "0.4925373134328358"
        ],
        [
         "2",
         "ARG",
         "64.7",
         "28200.8152571318",
         "43024071.0",
         "Argentina",
         "55",
         "45",
         "0.8181818181818182"
        ],
        [
         "3",
         "AUS",
         "84.0",
         "55288.1153378005",
         "23475686.0",
         "Australia",
         "55",
         "45",
         "0.8181818181818182"
        ],
        [
         "4",
         "AUT",
         "81.0",
         "60919.8406958317",
         "8546356.0",
         "Austria",
         "53",
         "47",
         "0.8867924528301887"
        ],
        [
         "5",
         "AZE",
         "75.0",
         "20716.1415229269",
         "9535079.0",
         "Azerbaijan",
         "74",
         "26",
         "0.35135135135135137"
        ],
        [
         "6",
         "BEL",
         "85.0",
         "57028.0625939732",
         "11209057.0",
         "Belgium",
         "56",
         "44",
         "0.7857142857142857"
        ],
        [
         "7",
         "BGD",
         "11.9",
         "5068.63965672741",
         "157964929.0",
         "Bangladesh",
         "72",
         "28",
         "0.3888888888888889"
        ],
        [
         "8",
         "BLR",
         "59.0",
         "26564.4347191137",
         "9448515.0",
         "Belarus",
         "77",
         "23",
         "0.2987012987012987"
        ],
        [
         "9",
         "BRA",
         "54.6",
         "19183.172746126",
         "200085127.0",
         "Brazil",
         "57",
         "43",
         "0.7543859649122807"
        ],
        [
         "10",
         "CAN",
         "87.1",
         "55661.3651246938",
         "35434066.0",
         "Canada",
         "58",
         "42",
         "0.7241379310344828"
        ],
        [
         "11",
         "CHE",
         "83.6",
         "76132.9722101659",
         "8188649.0",
         "Switzerland",
         "52",
         "48",
         "0.9230769230769231"
        ],
        [
         "12",
         "CHL",
         "61.1",
         "27516.8705266845",
         "17864195.0",
         "Chile",
         "60",
         "40",
         "0.6666666666666666"
        ],
        [
         "13",
         "CHN",
         "47.9",
         "13696.5174948492",
         "1371860000.0",
         "China",
         "92",
         "8",
         "0.08695652173913043"
        ],
        [
         "14",
         "COL",
         "52.6",
         "16480.3631474161",
         "46565429.0",
         "Colombia",
         "73",
         "27",
         "0.3698630136986301"
        ],
        [
         "15",
         "CZE",
         "74.2",
         "40158.0164293443",
         "10525347.0",
         "Czechia",
         "68",
         "32",
         "0.47058823529411764"
        ],
        [
         "16",
         "DEU",
         "86.2",
         "59239.3401157716",
         "80982500.0",
         "Germany",
         "51",
         "49",
         "0.9607843137254902"
        ],
        [
         "17",
         "DNK",
         "96.0",
         "61047.3337168943",
         "5643475.0",
         "Denmark",
         "62",
         "38",
         "0.6129032258064516"
        ],
        [
         "18",
         "DOM",
         "49.6",
         "16817.6442268689",
         "10315528.0",
         "Dominican Republic",
         "75",
         "25",
         "0.3333333333333333"
        ],
        [
         "19",
         "DZA",
         "29.5",
         "15073.7629403724",
         "39205031.0",
         "Algeria",
         "65",
         "35",
         "0.5384615384615384"
        ],
        [
         "20",
         "ECU",
         "45.6",
         "14047.4913782084",
         "16035124.0",
         "Ecuador",
         "76",
         "24",
         "0.3157894736842105"
        ],
        [
         "21",
         "EGY",
         "33.9",
         "13136.365629827",
         "97528654.0",
         "Egypt",
         "66",
         "34",
         "0.5151515151515151"
        ],
        [
         "22",
         "ESP",
         "76.2",
         "41321.490912675",
         "46480882.0",
         "Spain",
         "63",
         "37",
         "0.5873015873015873"
        ],
        [
         "23",
         "ETH",
         "7.7",
         "1821.39152446688",
         "101115610.0",
         "Ethiopia",
         "60",
         "40",
         "0.6666666666666666"
        ],
        [
         "24",
         "FRA",
         "83.8",
         "50326.5678638035",
         "66312067.0",
         "France",
         "55",
         "45",
         "0.8181818181818182"
        ],
        [
         "25",
         "GBR",
         "91.6",
         "49264.0553741224",
         "64602298.0",
         "United Kingdom",
         "54",
         "46",
         "0.8518518518518519"
        ],
        [
         "26",
         "GHA",
         "19.0",
         "5619.07233511591",
         "28041592.0",
         "Ghana",
         "71",
         "29",
         "0.4084507042253521"
        ],
        [
         "27",
         "GRC",
         "63.2",
         "31213.376451539",
         "10892413.0",
         "Greece",
         "66",
         "34",
         "0.5151515151515151"
        ],
        [
         "28",
         "HKG",
         "79.9",
         "61839.7914288728",
         "7229500.0",
         "Hong Kong",
         "62",
         "38",
         "0.6129032258064516"
        ],
        [
         "29",
         "HUN",
         "75.7",
         "30205.5060344521",
         "9866468.0",
         "Hungary",
         "74",
         "26",
         "0.35135135135135137"
        ],
        [
         "30",
         "IDN",
         "17.1",
         "10504.3869411088",
         "258877399.0",
         "Indonesia",
         "75",
         "25",
         "0.3333333333333333"
        ],
        [
         "31",
         "IND",
         "13.5",
         "6079.84393523695",
         "1312277191.0",
         "India",
         "73",
         "27",
         "0.3698630136986301"
        ],
        [
         "32",
         "IRN",
         "39.4",
         "14299.5717729808",
         "81502045.0",
         "Iran",
         "71",
         "29",
         "0.4084507042253521"
        ],
        [
         "33",
         "ISR",
         "75.0",
         "40623.8421581639",
         "8215700.0",
         "Israel",
         "70",
         "30",
         "0.42857142857142855"
        ],
        [
         "34",
         "ITA",
         "55.6",
         "46464.8189164575",
         "60789140.0",
         "Italy",
         "57",
         "43",
         "0.7543859649122807"
        ],
        [
         "35",
         "JPN",
         "89.1",
         "42683.7754496421",
         "127276000.0",
         "Japan",
         "53",
         "47",
         "0.8867924528301887"
        ],
        [
         "36",
         "KAZ",
         "66.0",
         "30986.4379168995",
         "17816285.0",
         "Kazakhstan",
         "81",
         "19",
         "0.2345679012345679"
        ],
        [
         "37",
         "KEN",
         "16.5",
         "4558.55155266374",
         "46051440.0",
         "Kenya",
         "82",
         "18",
         "0.21951219512195122"
        ],
        [
         "38",
         "KOR",
         "87.6",
         "41518.0942296892",
         "50746659.0",
         "South Korea",
         "70",
         "30",
         "0.42857142857142855"
        ],
        [
         "39",
         "MAR",
         "56.8",
         "7951.79833984375",
         "34204780.0",
         "Morocco",
         "68",
         "32",
         "0.47058823529411764"
        ],
        [
         "40",
         "MEX",
         "44.4",
         "21069.76616886",
         "119784261.0",
         "Mexico",
         "70",
         "30",
         "0.42857142857142855"
        ],
        [
         "41",
         "MYS",
         "63.7",
         "26818.4317281659",
         "30696137.0",
         "Malaysia",
         "57",
         "43",
         "0.7543859649122807"
        ],
        [
         "42",
         "NGA",
         "21.0",
         "5980.191816483",
         "185896915.0",
         "Nigeria",
         "61",
         "39",
         "0.639344262295082"
        ],
        [
         "43",
         "NLD",
         "91.7",
         "62045.8564005806",
         "16865008.0",
         "Netherlands",
         "54",
         "46",
         "0.8518518518518519"
        ],
        [
         "44",
         "PAK",
         "10.0",
         "4520.23463399286",
         "214264647.0",
         "Pakistan",
         "84",
         "16",
         "0.19047619047619047"
        ],
        [
         "45",
         "PER",
         "40.2",
         "14247.1010019489",
         "30115826.0",
         "Peru",
         "74",
         "26",
         "0.35135135135135137"
        ],
        [
         "46",
         "PHL",
         "34.7",
         "7340.36158580785",
         "103767130.0",
         "Philippines",
         "78",
         "22",
         "0.28205128205128205"
        ],
        [
         "47",
         "POL",
         "66.6",
         "30334.8786569618",
         "38011735.0",
         "Poland",
         "72",
         "28",
         "0.3888888888888889"
        ],
        [
         "48",
         "PRT",
         "64.6",
         "35097.4096978696",
         "10401062.0",
         "Portugal",
         "66",
         "34",
         "0.5151515151515151"
        ],
        [
         "49",
         "ROU",
         "54.1",
         "28154.7373884737",
         "19908979.0",
         "Romania",
         "77",
         "23",
         "0.2987012987012987"
        ]
       ],
       "shape": {
        "columns": 8,
        "rows": 62
       }
      },
      "text/html": [
       "<div>\n",
       "<style scoped>\n",
       "    .dataframe tbody tr th:only-of-type {\n",
       "        vertical-align: middle;\n",
       "    }\n",
       "\n",
       "    .dataframe tbody tr th {\n",
       "        vertical-align: top;\n",
       "    }\n",
       "\n",
       "    .dataframe thead th {\n",
       "        text-align: right;\n",
       "    }\n",
       "</style>\n",
       "<table border=\"1\" class=\"dataframe\">\n",
       "  <thead>\n",
       "    <tr style=\"text-align: right;\">\n",
       "      <th></th>\n",
       "      <th>economy</th>\n",
       "      <th>IT.NET.USER.ZS</th>\n",
       "      <th>NY.GDP.PCAP.PP.KD</th>\n",
       "      <th>SP.POP.TOTL</th>\n",
       "      <th>country</th>\n",
       "      <th>G2013</th>\n",
       "      <th>G2015</th>\n",
       "      <th>FOI</th>\n",
       "    </tr>\n",
       "  </thead>\n",
       "  <tbody>\n",
       "    <tr>\n",
       "      <th>0</th>\n",
       "      <td>AGO</td>\n",
       "      <td>21.4</td>\n",
       "      <td>10250.592404</td>\n",
       "      <td>27160769.0</td>\n",
       "      <td>Angola</td>\n",
       "      <td>68</td>\n",
       "      <td>32</td>\n",
       "      <td>0.470588</td>\n",
       "    </tr>\n",
       "    <tr>\n",
       "      <th>1</th>\n",
       "      <td>ARE</td>\n",
       "      <td>90.4</td>\n",
       "      <td>69409.037043</td>\n",
       "      <td>8059440.0</td>\n",
       "      <td>United Arab Emirates</td>\n",
       "      <td>67</td>\n",
       "      <td>33</td>\n",
       "      <td>0.492537</td>\n",
       "    </tr>\n",
       "    <tr>\n",
       "      <th>2</th>\n",
       "      <td>ARG</td>\n",
       "      <td>64.7</td>\n",
       "      <td>28200.815257</td>\n",
       "      <td>43024071.0</td>\n",
       "      <td>Argentina</td>\n",
       "      <td>55</td>\n",
       "      <td>45</td>\n",
       "      <td>0.818182</td>\n",
       "    </tr>\n",
       "    <tr>\n",
       "      <th>3</th>\n",
       "      <td>AUS</td>\n",
       "      <td>84.0</td>\n",
       "      <td>55288.115338</td>\n",
       "      <td>23475686.0</td>\n",
       "      <td>Australia</td>\n",
       "      <td>55</td>\n",
       "      <td>45</td>\n",
       "      <td>0.818182</td>\n",
       "    </tr>\n",
       "    <tr>\n",
       "      <th>4</th>\n",
       "      <td>AUT</td>\n",
       "      <td>81.0</td>\n",
       "      <td>60919.840696</td>\n",
       "      <td>8546356.0</td>\n",
       "      <td>Austria</td>\n",
       "      <td>53</td>\n",
       "      <td>47</td>\n",
       "      <td>0.886792</td>\n",
       "    </tr>\n",
       "    <tr>\n",
       "      <th>...</th>\n",
       "      <td>...</td>\n",
       "      <td>...</td>\n",
       "      <td>...</td>\n",
       "      <td>...</td>\n",
       "      <td>...</td>\n",
       "      <td>...</td>\n",
       "      <td>...</td>\n",
       "      <td>...</td>\n",
       "    </tr>\n",
       "    <tr>\n",
       "      <th>57</th>\n",
       "      <td>UKR</td>\n",
       "      <td>46.2</td>\n",
       "      <td>16978.812500</td>\n",
       "      <td>45972380.0</td>\n",
       "      <td>Ukraine</td>\n",
       "      <td>79</td>\n",
       "      <td>21</td>\n",
       "      <td>0.265823</td>\n",
       "    </tr>\n",
       "    <tr>\n",
       "      <th>58</th>\n",
       "      <td>USA</td>\n",
       "      <td>73.0</td>\n",
       "      <td>63191.247781</td>\n",
       "      <td>318386329.0</td>\n",
       "      <td>United States</td>\n",
       "      <td>57</td>\n",
       "      <td>43</td>\n",
       "      <td>0.754386</td>\n",
       "    </tr>\n",
       "    <tr>\n",
       "      <th>59</th>\n",
       "      <td>UZB</td>\n",
       "      <td>35.5</td>\n",
       "      <td>7145.109807</td>\n",
       "      <td>30222994.0</td>\n",
       "      <td>Uzbekistan</td>\n",
       "      <td>72</td>\n",
       "      <td>28</td>\n",
       "      <td>0.388889</td>\n",
       "    </tr>\n",
       "    <tr>\n",
       "      <th>60</th>\n",
       "      <td>VNM</td>\n",
       "      <td>41.0</td>\n",
       "      <td>8751.882806</td>\n",
       "      <td>91679578.0</td>\n",
       "      <td>Vietnam</td>\n",
       "      <td>76</td>\n",
       "      <td>24</td>\n",
       "      <td>0.315789</td>\n",
       "    </tr>\n",
       "    <tr>\n",
       "      <th>61</th>\n",
       "      <td>ZAF</td>\n",
       "      <td>49.0</td>\n",
       "      <td>14661.262435</td>\n",
       "      <td>55594838.0</td>\n",
       "      <td>South Africa</td>\n",
       "      <td>56</td>\n",
       "      <td>44</td>\n",
       "      <td>0.785714</td>\n",
       "    </tr>\n",
       "  </tbody>\n",
       "</table>\n",
       "<p>62 rows × 8 columns</p>\n",
       "</div>"
      ],
      "text/plain": [
       "   economy  IT.NET.USER.ZS  NY.GDP.PCAP.PP.KD  SP.POP.TOTL  \\\n",
       "0      AGO            21.4       10250.592404   27160769.0   \n",
       "1      ARE            90.4       69409.037043    8059440.0   \n",
       "2      ARG            64.7       28200.815257   43024071.0   \n",
       "3      AUS            84.0       55288.115338   23475686.0   \n",
       "4      AUT            81.0       60919.840696    8546356.0   \n",
       "..     ...             ...                ...          ...   \n",
       "57     UKR            46.2       16978.812500   45972380.0   \n",
       "58     USA            73.0       63191.247781  318386329.0   \n",
       "59     UZB            35.5        7145.109807   30222994.0   \n",
       "60     VNM            41.0        8751.882806   91679578.0   \n",
       "61     ZAF            49.0       14661.262435   55594838.0   \n",
       "\n",
       "                 country  G2013  G2015       FOI  \n",
       "0                 Angola     68     32  0.470588  \n",
       "1   United Arab Emirates     67     33  0.492537  \n",
       "2              Argentina     55     45  0.818182  \n",
       "3              Australia     55     45  0.818182  \n",
       "4                Austria     53     47  0.886792  \n",
       "..                   ...    ...    ...       ...  \n",
       "57               Ukraine     79     21  0.265823  \n",
       "58         United States     57     43  0.754386  \n",
       "59            Uzbekistan     72     28  0.388889  \n",
       "60               Vietnam     76     24  0.315789  \n",
       "61          South Africa     56     44  0.785714  \n",
       "\n",
       "[62 rows x 8 columns]"
      ]
     },
     "execution_count": 8,
     "metadata": {},
     "output_type": "execute_result"
    }
   ],
   "source": [
    "#Preparing country names and merging the wdi data\n",
    "wdi_data[\"country\"]=coco.CountryConverter().pandas_convert(wdi_data[\"economy\"], to=\"name_short\")\n",
    "wdi_data=pd.merge(wdi_data, google_trends, on=\"country\", how=\"left\")\n",
    "wdi_data"
   ]
  },
  {
   "cell_type": "markdown",
   "id": "fcc137f0",
   "metadata": {},
   "source": [
    "### Exercise: 3 Testing the correlation between GDP and FOI *(2 points)*\n",
    "#### 3.1 Visualize FOI vs GDP\n",
    "\n",
    "Now that you have the FOI index, GPD per capita and PPP value for each country, you can make a scatter plot of FOI vs GDP.\n",
    "\n",
    "For this you can use the [`scatter`](https://matplotlib.org/stable/api/_as_gen/matplotlib.pyplot.scatter.html) method of `matplotlib`."
   ]
  },
  {
   "cell_type": "code",
   "execution_count": 9,
   "id": "67fdd05e",
   "metadata": {},
   "outputs": [
    {
     "data": {
      "text/plain": [
       "Text(0.5, 1.0, 'Future Orientation Index vs. GDP per capita, corrected by PPP')"
      ]
     },
     "execution_count": 9,
     "metadata": {},
     "output_type": "execute_result"
    },
    {
     "data": {
      "image/png": "[encoded data removed]",
      "text/plain": [
       "<Figure size 640x480 with 1 Axes>"
      ]
     },
     "metadata": {},
     "output_type": "display_data"
    }
   ],
   "source": [
    "#Plotting\n",
    "\n",
    "plt.plot()\n",
    "plt.scatter( wdi_data[\"NY.GDP.PCAP.PP.KD\"], wdi_data[\"FOI\"], colorizer=\"cornflowerblue\")\n",
    "plt.ylabel(\"Future Orientation Index\")\n",
    "plt.xlabel(\"GDP per capita, corrected by PPP\")\n",
    "plt.title(\"Future Orientation Index vs. GDP per capita, corrected by PPP\")"
   ]
  },
  {
   "cell_type": "markdown",
   "id": "0f404be5",
   "metadata": {},
   "source": [
    "#### 3.2 Measure Pearson’s correlation\n",
    "\n",
    "In the following chunk, calculate Pearson’s correlation coefficient between GDP and FOI.\n",
    "\n",
    "For this you can use the [`pearsonr`](https://docs.scipy.org/doc/scipy/reference/generated/scipy.stats.pearsonr.html) method of `scipy`."
   ]
  },
  {
   "cell_type": "code",
   "execution_count": 10,
   "id": "b18b0a3b",
   "metadata": {},
   "outputs": [
    {
     "name": "stdout",
     "output_type": "stream",
     "text": [
      "Pearson's correlation coefficient between GDP and FOI is 0.6311495785227137\n"
     ]
    }
   ],
   "source": [
    "# Calculating pearson's correlation coefficient\n",
    "corr=stats.pearsonr(wdi_data[\"FOI\"],wdi_data[\"NY.GDP.PCAP.PP.KD\"]).statistic\n",
    "print(f\"Pearson's correlation coefficient between GDP and FOI is {corr}\")"
   ]
  },
  {
   "cell_type": "markdown",
   "id": "657dc825",
   "metadata": {},
   "source": [
    "### To learn more\n",
    "#### Check robustness\n",
    "* What result do you get if you use other years? What if you choose one of the earliest years in Google trends?\n",
    "* How do results change if you use a different threshod instead of 5 Million Internet users?\n",
    "    \n",
    "#### Test other hypotheses\n",
    "* Is future orientation generating wealth? Or is wealth enabling to look more to the future?\n",
    "* Is the FOI really measuring orientation to the future? Could it be something else?"
   ]
  },
  {
   "cell_type": "markdown",
   "id": "fbe67d1f",
   "metadata": {},
   "source": [
    "## Part 2\n",
    "## Using Google Trends data to model Flu Trends"
   ]
  },
  {
   "cell_type": "markdown",
   "id": "b307d8a0",
   "metadata": {},
   "source": [
    "### Install requirements. "
   ]
  },
  {
   "cell_type": "code",
   "execution_count": 11,
   "id": "c98ada14",
   "metadata": {},
   "outputs": [],
   "source": [
    "# ! pip install -U pytrends\n",
    "# ! pip install requests\n",
    "# ! pip install statsmodels"
   ]
  },
  {
   "cell_type": "code",
   "execution_count": 12,
   "id": "ad215230",
   "metadata": {},
   "outputs": [],
   "source": [
    "from pytrends.request import TrendReq\n",
    "import requests\n",
    "from datetime import datetime\n",
    "import csv"
   ]
  },
  {
   "cell_type": "markdown",
   "id": "4d6323cb",
   "metadata": {},
   "source": [
    "### Exercise 4 *(4 points)*\n",
    "Use the [pytrends module](https://pypi.org/project/pytrends/) to get weekly Google Trends data concerning the [Flu/Influenza](https://en.wikipedia.org/wiki/Influenza) virus from the beginning of 2014 until the end of 2018. \n",
    "<br>\n",
    "\n",
    "- Create an instance of the `TrendReq` class\n",
    "- Find the appropriate query term. The TrendReq class includes a method `suggestions`, which should help you in this task (the query term can look like e.g. `/m/03x_m3v`).\n",
    "- Specify the correct geographical region, the timeframe, and the key-word list. Use the `build_payload` method to store this information for future requests.\n",
    "- Use the `interest_over_time` method to get the data.\n",
    "<br><br>"
   ]
  },
  {
   "cell_type": "markdown",
   "id": "e196189c",
   "metadata": {},
   "source": [
    "***Hint:*** *the pytrends module currently has a bug. If you get a `TooManyRequestsError` despite following the documentation, try following the advice outlined [here](https://github.com/GeneralMills/pytrends/issues/573#issuecomment-1501897119) or [here](https://github.com/GeneralMills/pytrends/issues/561#issuecomment-1462899426) (both solve the issue).*"
   ]
  },
  {
   "cell_type": "code",
   "execution_count": 13,
   "id": "d04c7f93",
   "metadata": {},
   "outputs": [],
   "source": [
    "# Creating cookie for the trends request\n",
    "session = requests.Session()\n",
    "session.get('https://trends.google.com')\n",
    "cookies_map = session.cookies.get_dict()\n",
    "nid_cookie = cookies_map['NID']"
   ]
  },
  {
   "cell_type": "code",
   "execution_count": 14,
   "id": "8c970856",
   "metadata": {},
   "outputs": [],
   "source": [
    "# Accessing data using the TrendReq API\n",
    "flu_pytrend=TrendReq(hl='en-US', tz=360, retries=3, requests_args={'headers': {'Cookie': f'NID={nid_cookie}'}})\n",
    "flu_keywords=flu_pytrend.suggestions(keyword=\"Influenza\")\n",
    "flu_pytrend.build_payload([flu_keywords[0][\"mid\"]], cat=0, timeframe=\"2014-01-01 2018-12-31\", geo=\"\", gprop=\"\")\n",
    "flu_data=flu_pytrend.interest_over_time()\n",
    "flu_data.drop(columns=[\"isPartial\"], inplace=True)\n",
    "flu_data.reset_index(inplace=True)\n",
    "flu_data.to_csv('influenza_google_trends.csv', index=False)\n"
   ]
  },
  {
   "cell_type": "code",
   "execution_count": 15,
   "id": "39a8671e",
   "metadata": {},
   "outputs": [],
   "source": [
    "#Preparing the data (i.e. creating year and week variables from the date for later merging)\n",
    "flu_data=pd.read_csv(\"influenza_google_trends.csv\")\n",
    "flu_data[\"date\"]=pd.to_datetime(flu_data[\"date\"])\n",
    "flu_data[\"year\"]=flu_data[\"date\"].dt.isocalendar().year\n",
    "flu_data[\"week\"]=flu_data[\"date\"].dt.isocalendar().week"
   ]
  },
  {
   "cell_type": "markdown",
   "id": "9fc1dc8e",
   "metadata": {},
   "source": [
    "### Exercise 5 *(2 points)*\n",
    "\n",
    "In the `a01` folder you will find a file named `ILINet.csv`, which contains data regarding the occurance of Influenza like Illnesses in the US. You can also find the data and the corresponding [documentation](https://gis.cdc.gov/grasp/fluview/FluViewPhase2QuickReferenceGuide.pdf) on the CDC's [FluView interactive dashboard](https://gis.cdc.gov/grasp/fluview/fluportaldashboard.html).\n",
    "<br>\n",
    "- Read the csv file, and store it as a [pandas](https://pypi.org/project/pandas/) dataframe. You might need to use the `skiprows` argument of the `read_csv` method to be able to load the data correctly.\n",
    "- Select the columns named `YEAR`, `WEEK`, and `% WEIGHTED ILI` which will be needed for our analysis. Additionally, drop the rows which store observations from before 2014, or after 2018."
   ]
  },
  {
   "cell_type": "code",
   "execution_count": 16,
   "id": "9ccc2b4e",
   "metadata": {},
   "outputs": [
    {
     "data": {
      "application/vnd.microsoft.datawrangler.viewer.v0+json": {
       "columns": [
        {
         "name": "index",
         "rawType": "int64",
         "type": "integer"
        },
        {
         "name": "index",
         "rawType": "int64",
         "type": "integer"
        },
        {
         "name": "YEAR",
         "rawType": "int64",
         "type": "integer"
        },
        {
         "name": "WEEK",
         "rawType": "int64",
         "type": "integer"
        },
        {
         "name": "% WEIGHTED ILI",
         "rawType": "float64",
         "type": "float"
        },
        {
         "name": "date",
         "rawType": "datetime64[ns]",
         "type": "datetime"
        }
       ],
       "conversionMethod": "pd.DataFrame",
       "ref": "ad46540c-e20f-4ae5-9959-77182b8bb788",
       "rows": [
        [
         "0",
         "848",
         "2014",
         "1",
         "4.28195",
         "2013-12-30 00:00:00"
        ],
        [
         "1",
         "849",
         "2014",
         "2",
         "3.56288",
         "2014-01-06 00:00:00"
        ],
        [
         "2",
         "850",
         "2014",
         "3",
         "3.36378",
         "2014-01-13 00:00:00"
        ],
        [
         "3",
         "851",
         "2014",
         "4",
         "3.39659",
         "2014-01-20 00:00:00"
        ],
        [
         "4",
         "852",
         "2014",
         "5",
         "3.11922",
         "2014-01-27 00:00:00"
        ],
        [
         "5",
         "853",
         "2014",
         "6",
         "2.83572",
         "2014-02-03 00:00:00"
        ],
        [
         "6",
         "854",
         "2014",
         "7",
         "2.48484",
         "2014-02-10 00:00:00"
        ],
        [
         "7",
         "855",
         "2014",
         "8",
         "2.2741",
         "2014-02-17 00:00:00"
        ],
        [
         "8",
         "856",
         "2014",
         "9",
         "2.07244",
         "2014-02-24 00:00:00"
        ],
        [
         "9",
         "857",
         "2014",
         "10",
         "1.98207",
         "2014-03-03 00:00:00"
        ],
        [
         "10",
         "858",
         "2014",
         "11",
         "1.82441",
         "2014-03-10 00:00:00"
        ],
        [
         "11",
         "859",
         "2014",
         "12",
         "1.82036",
         "2014-03-17 00:00:00"
        ],
        [
         "12",
         "860",
         "2014",
         "13",
         "1.75391",
         "2014-03-24 00:00:00"
        ],
        [
         "13",
         "861",
         "2014",
         "14",
         "1.74542",
         "2014-03-31 00:00:00"
        ],
        [
         "14",
         "862",
         "2014",
         "15",
         "1.67236",
         "2014-04-07 00:00:00"
        ],
        [
         "15",
         "863",
         "2014",
         "16",
         "1.51659",
         "2014-04-14 00:00:00"
        ],
        [
         "16",
         "864",
         "2014",
         "17",
         "1.44778",
         "2014-04-21 00:00:00"
        ],
        [
         "17",
         "865",
         "2014",
         "18",
         "1.29028",
         "2014-04-28 00:00:00"
        ],
        [
         "18",
         "866",
         "2014",
         "19",
         "1.37388",
         "2014-05-05 00:00:00"
        ],
        [
         "19",
         "867",
         "2014",
         "20",
         "1.34208",
         "2014-05-12 00:00:00"
        ],
        [
         "20",
         "868",
         "2014",
         "21",
         "1.34563",
         "2014-05-19 00:00:00"
        ],
        [
         "21",
         "869",
         "2014",
         "22",
         "1.21291",
         "2014-05-26 00:00:00"
        ],
        [
         "22",
         "870",
         "2014",
         "23",
         "1.19291",
         "2014-06-02 00:00:00"
        ],
        [
         "23",
         "871",
         "2014",
         "24",
         "1.14146",
         "2014-06-09 00:00:00"
        ],
        [
         "24",
         "872",
         "2014",
         "25",
         "1.06503",
         "2014-06-16 00:00:00"
        ],
        [
         "25",
         "873",
         "2014",
         "26",
         "1.12669",
         "2014-06-23 00:00:00"
        ],
        [
         "26",
         "874",
         "2014",
         "27",
         "0.947353",
         "2014-06-30 00:00:00"
        ],
        [
         "27",
         "875",
         "2014",
         "28",
         "0.944187",
         "2014-07-07 00:00:00"
        ],
        [
         "28",
         "876",
         "2014",
         "29",
         "0.934822",
         "2014-07-14 00:00:00"
        ],
        [
         "29",
         "877",
         "2014",
         "30",
         "0.81736",
         "2014-07-21 00:00:00"
        ],
        [
         "30",
         "878",
         "2014",
         "31",
         "0.852792",
         "2014-07-28 00:00:00"
        ],
        [
         "31",
         "879",
         "2014",
         "32",
         "0.746994",
         "2014-08-04 00:00:00"
        ],
        [
         "32",
         "880",
         "2014",
         "33",
         "0.761098",
         "2014-08-11 00:00:00"
        ],
        [
         "33",
         "881",
         "2014",
         "34",
         "0.767627",
         "2014-08-18 00:00:00"
        ],
        [
         "34",
         "882",
         "2014",
         "35",
         "0.862176",
         "2014-08-25 00:00:00"
        ],
        [
         "35",
         "883",
         "2014",
         "36",
         "0.984907",
         "2014-09-01 00:00:00"
        ],
        [
         "36",
         "884",
         "2014",
         "37",
         "1.16287",
         "2014-09-08 00:00:00"
        ],
        [
         "37",
         "885",
         "2014",
         "38",
         "1.22731",
         "2014-09-15 00:00:00"
        ],
        [
         "38",
         "886",
         "2014",
         "39",
         "1.2071",
         "2014-09-22 00:00:00"
        ],
        [
         "39",
         "887",
         "2014",
         "40",
         "1.16191",
         "2014-09-29 00:00:00"
        ],
        [
         "40",
         "888",
         "2014",
         "41",
         "1.30905",
         "2014-10-06 00:00:00"
        ],
        [
         "41",
         "889",
         "2014",
         "42",
         "1.37072",
         "2014-10-13 00:00:00"
        ],
        [
         "42",
         "890",
         "2014",
         "43",
         "1.43373",
         "2014-10-20 00:00:00"
        ],
        [
         "43",
         "891",
         "2014",
         "44",
         "1.42791",
         "2014-10-27 00:00:00"
        ],
        [
         "44",
         "892",
         "2014",
         "45",
         "1.61605",
         "2014-11-03 00:00:00"
        ],
        [
         "45",
         "893",
         "2014",
         "46",
         "1.65976",
         "2014-11-10 00:00:00"
        ],
        [
         "46",
         "894",
         "2014",
         "47",
         "2.05459",
         "2014-11-17 00:00:00"
        ],
        [
         "47",
         "895",
         "2014",
         "48",
         "2.53541",
         "2014-11-24 00:00:00"
        ],
        [
         "48",
         "896",
         "2014",
         "49",
         "2.54253",
         "2014-12-01 00:00:00"
        ],
        [
         "49",
         "897",
         "2014",
         "50",
         "3.60563",
         "2014-12-08 00:00:00"
        ]
       ],
       "shape": {
        "columns": 5,
        "rows": 261
       }
      },
      "text/html": [
       "<div>\n",
       "<style scoped>\n",
       "    .dataframe tbody tr th:only-of-type {\n",
       "        vertical-align: middle;\n",
       "    }\n",
       "\n",
       "    .dataframe tbody tr th {\n",
       "        vertical-align: top;\n",
       "    }\n",
       "\n",
       "    .dataframe thead th {\n",
       "        text-align: right;\n",
       "    }\n",
       "</style>\n",
       "<table border=\"1\" class=\"dataframe\">\n",
       "  <thead>\n",
       "    <tr style=\"text-align: right;\">\n",
       "      <th></th>\n",
       "      <th>index</th>\n",
       "      <th>YEAR</th>\n",
       "      <th>WEEK</th>\n",
       "      <th>% WEIGHTED ILI</th>\n",
       "      <th>date</th>\n",
       "    </tr>\n",
       "  </thead>\n",
       "  <tbody>\n",
       "    <tr>\n",
       "      <th>0</th>\n",
       "      <td>848</td>\n",
       "      <td>2014</td>\n",
       "      <td>1</td>\n",
       "      <td>4.28195</td>\n",
       "      <td>2013-12-30</td>\n",
       "    </tr>\n",
       "    <tr>\n",
       "      <th>1</th>\n",
       "      <td>849</td>\n",
       "      <td>2014</td>\n",
       "      <td>2</td>\n",
       "      <td>3.56288</td>\n",
       "      <td>2014-01-06</td>\n",
       "    </tr>\n",
       "    <tr>\n",
       "      <th>2</th>\n",
       "      <td>850</td>\n",
       "      <td>2014</td>\n",
       "      <td>3</td>\n",
       "      <td>3.36378</td>\n",
       "      <td>2014-01-13</td>\n",
       "    </tr>\n",
       "    <tr>\n",
       "      <th>3</th>\n",
       "      <td>851</td>\n",
       "      <td>2014</td>\n",
       "      <td>4</td>\n",
       "      <td>3.39659</td>\n",
       "      <td>2014-01-20</td>\n",
       "    </tr>\n",
       "    <tr>\n",
       "      <th>4</th>\n",
       "      <td>852</td>\n",
       "      <td>2014</td>\n",
       "      <td>5</td>\n",
       "      <td>3.11922</td>\n",
       "      <td>2014-01-27</td>\n",
       "    </tr>\n",
       "    <tr>\n",
       "      <th>...</th>\n",
       "      <td>...</td>\n",
       "      <td>...</td>\n",
       "      <td>...</td>\n",
       "      <td>...</td>\n",
       "      <td>...</td>\n",
       "    </tr>\n",
       "    <tr>\n",
       "      <th>256</th>\n",
       "      <td>1104</td>\n",
       "      <td>2018</td>\n",
       "      <td>48</td>\n",
       "      <td>2.14883</td>\n",
       "      <td>2018-11-26</td>\n",
       "    </tr>\n",
       "    <tr>\n",
       "      <th>257</th>\n",
       "      <td>1105</td>\n",
       "      <td>2018</td>\n",
       "      <td>49</td>\n",
       "      <td>2.25531</td>\n",
       "      <td>2018-12-03</td>\n",
       "    </tr>\n",
       "    <tr>\n",
       "      <th>258</th>\n",
       "      <td>1106</td>\n",
       "      <td>2018</td>\n",
       "      <td>50</td>\n",
       "      <td>2.64571</td>\n",
       "      <td>2018-12-10</td>\n",
       "    </tr>\n",
       "    <tr>\n",
       "      <th>259</th>\n",
       "      <td>1107</td>\n",
       "      <td>2018</td>\n",
       "      <td>51</td>\n",
       "      <td>3.14075</td>\n",
       "      <td>2018-12-17</td>\n",
       "    </tr>\n",
       "    <tr>\n",
       "      <th>260</th>\n",
       "      <td>1108</td>\n",
       "      <td>2018</td>\n",
       "      <td>52</td>\n",
       "      <td>3.97127</td>\n",
       "      <td>2018-12-24</td>\n",
       "    </tr>\n",
       "  </tbody>\n",
       "</table>\n",
       "<p>261 rows × 5 columns</p>\n",
       "</div>"
      ],
      "text/plain": [
       "     index  YEAR  WEEK  % WEIGHTED ILI       date\n",
       "0      848  2014     1         4.28195 2013-12-30\n",
       "1      849  2014     2         3.56288 2014-01-06\n",
       "2      850  2014     3         3.36378 2014-01-13\n",
       "3      851  2014     4         3.39659 2014-01-20\n",
       "4      852  2014     5         3.11922 2014-01-27\n",
       "..     ...   ...   ...             ...        ...\n",
       "256   1104  2018    48         2.14883 2018-11-26\n",
       "257   1105  2018    49         2.25531 2018-12-03\n",
       "258   1106  2018    50         2.64571 2018-12-10\n",
       "259   1107  2018    51         3.14075 2018-12-17\n",
       "260   1108  2018    52         3.97127 2018-12-24\n",
       "\n",
       "[261 rows x 5 columns]"
      ]
     },
     "execution_count": 16,
     "metadata": {},
     "output_type": "execute_result"
    }
   ],
   "source": [
    "# Loading and preparing the ILINet Data\n",
    "ILINet=pd.read_csv(\"ILINet.csv\", skiprows=1)[[\"YEAR\",\"WEEK\",\"% WEIGHTED ILI\"]]\n",
    "ILINet = ILINet[(ILINet[\"YEAR\"] >= 2014) & (ILINet[\"YEAR\"] <= 2018)]\n",
    "ILINet['date'] = pd.to_datetime(ILINet['YEAR'].astype(str) + ILINet['WEEK'].astype(str).str.zfill(2) + '1', format='%G%V%u')\n",
    "ILINet.reset_index(inplace=True)\n",
    "\n",
    "ILINet"
   ]
  },
  {
   "cell_type": "markdown",
   "id": "0e08a2ca",
   "metadata": {},
   "source": [
    "### Exercise 6 *(6 points)*\n",
    "\n",
    "Next, we will use the [statsmodels](https://www.statsmodels.org/stable/index.html) module to build some models which can predict Flu infections. \n",
    "<br>\n",
    "- Create an [autoregressive model](https://www.statsmodels.org/dev/generated/statsmodels.tsa.ar_model.AutoReg.html) using `% WEIGHTED ILI` as a dependent variable and it's [lagged](https://ibf.org/knowledge/glossary/lagged-dependent-variable-156) versions as explanatory variables. You are free to use as many lags as possible to find the best fitting model, as measured by the [Bayesian Information Criterion (BIC)](https://en.wikipedia.org/wiki/Bayesian_information_criterion).\n",
    "- You may also add [trend](https://towardsdatascience.com/understanding-time-series-trend-addfd9d7764e) and/or [seasonal](https://towardsdatascience.com/seasonality-of-time-series-5b45b4809acd) variables to the model to improve your model's fit.\n",
    "- Create another model with `% WEIGHTED ILI` as a dependent variable and the Google Trend volume from the same week as the explanatory variable.\n",
    "- Last, create a model which uses both the lagged values of `% WEIGHTED ILI` and the Google Trends data (and/or its lagged versions) as explanatory variables to achieve the best fit. \n",
    "- Create a linechart showing the real values of `% WEIGHTED ILI` as well as the values predicted by all three models. Discuss your results."
   ]
  },
  {
   "cell_type": "code",
   "execution_count": 17,
   "id": "62d1e565",
   "metadata": {},
   "outputs": [
    {
     "name": "stdout",
     "output_type": "stream",
     "text": [
      "                            AutoReg Model Results                             \n",
      "==============================================================================\n",
      "Dep. Variable:         % WEIGHTED ILI   No. Observations:                  261\n",
      "Model:                     AutoReg(2)   Log Likelihood                   4.999\n",
      "Method:               Conditional MLE   S.D. of innovations              0.237\n",
      "Date:                Mon, 28 Apr 2025   AIC                             -1.999\n",
      "Time:                        16:08:43   BIC                             12.229\n",
      "Sample:                             2   HQIC                             3.722\n",
      "                                  261                                         \n",
      "=====================================================================================\n",
      "                        coef    std err          z      P>|z|      [0.025      0.975]\n",
      "-------------------------------------------------------------------------------------\n",
      "const                 0.0844      0.026      3.218      0.001       0.033       0.136\n",
      "% WEIGHTED ILI.L1     1.6069      0.048     33.679      0.000       1.513       1.700\n",
      "% WEIGHTED ILI.L2    -0.6481      0.048    -13.642      0.000      -0.741      -0.555\n",
      "                                    Roots                                    \n",
      "=============================================================================\n",
      "                  Real          Imaginary           Modulus         Frequency\n",
      "-----------------------------------------------------------------------------\n",
      "AR.1            1.2398           -0.0778j            1.2422           -0.0100\n",
      "AR.2            1.2398           +0.0778j            1.2422            0.0100\n",
      "-----------------------------------------------------------------------------\n"
     ]
    }
   ],
   "source": [
    "# Building and estimating Model 1: \n",
    "## Lag-number of 2 and a constant trend minimize BIC and optimizes model's fit, seasonal flag and a 52 week period does not decrease the BIC.\n",
    "\n",
    "model1=AutoReg(ILINet[\"% WEIGHTED ILI\"],2, trend=\"c\")\n",
    "model1_results=model1.fit()\n",
    "print(model1_results.summary())\n",
    "\n",
    "ILINet[\"autoreg_predict\"]=model1_results.predict()"
   ]
  },
  {
   "cell_type": "code",
   "execution_count": 18,
   "id": "270a9d87",
   "metadata": {},
   "outputs": [
    {
     "name": "stdout",
     "output_type": "stream",
     "text": [
      "                            AutoReg Model Results                             \n",
      "==============================================================================\n",
      "Dep. Variable:         % WEIGHTED ILI   No. Observations:                  260\n",
      "Model:                   AutoReg-X(0)   Log Likelihood                -251.229\n",
      "Method:               Conditional MLE   S.D. of innovations              0.636\n",
      "Date:                Mon, 28 Apr 2025   AIC                            508.458\n",
      "Time:                        16:08:43   BIC                            519.140\n",
      "Sample:                             0   HQIC                           512.753\n",
      "                                  260                                         \n",
      "==============================================================================\n",
      "                 coef    std err          z      P>|z|      [0.025      0.975]\n",
      "------------------------------------------------------------------------------\n",
      "const          0.1251      0.073      1.702      0.089      -0.019       0.269\n",
      "/m/0cycc       0.0788      0.003     29.369      0.000       0.074       0.084\n",
      "==============================================================================\n"
     ]
    }
   ],
   "source": [
    "# Building and estimating Model 2:\n",
    "ILINet=pd.merge(ILINet, flu_data, left_on=[\"YEAR\", \"WEEK\"], right_on=[\"year\",\"week\"])\n",
    "\n",
    "model2=AutoReg(ILINet[\"% WEIGHTED ILI\"], exog=ILINet[\"/m/0cycc\"],lags=0,trend=\"c\")\n",
    "model2_results=model2.fit()\n",
    "print(model2_results.summary())\n",
    "ILINet[\"trends_predict\"]=model2_results.predict()"
   ]
  },
  {
   "cell_type": "code",
   "execution_count": 19,
   "id": "566817c1",
   "metadata": {},
   "outputs": [
    {
     "name": "stdout",
     "output_type": "stream",
     "text": [
      "                            AutoReg Model Results                             \n",
      "==============================================================================\n",
      "Dep. Variable:         % WEIGHTED ILI   No. Observations:                  260\n",
      "Model:                   AutoReg-X(2)   Log Likelihood                   3.567\n",
      "Method:               Conditional MLE   S.D. of innovations              0.239\n",
      "Date:                Mon, 28 Apr 2025   AIC                              2.866\n",
      "Time:                        16:08:43   BIC                             20.630\n",
      "Sample:                             2   HQIC                            10.009\n",
      "                                  260                                         \n",
      "=====================================================================================\n",
      "                        coef    std err          z      P>|z|      [0.025      0.975]\n",
      "-------------------------------------------------------------------------------------\n",
      "trend                -0.0002      0.000     -1.316      0.188      -0.001       0.000\n",
      "% WEIGHTED ILI.L1     1.2049      0.059     20.537      0.000       1.090       1.320\n",
      "% WEIGHTED ILI.L2    -0.3919      0.049     -7.945      0.000      -0.489      -0.295\n",
      "/m/0cycc              0.0168      0.002      8.350      0.000       0.013       0.021\n",
      "                                    Roots                                    \n",
      "=============================================================================\n",
      "                  Real          Imaginary           Modulus         Frequency\n",
      "-----------------------------------------------------------------------------\n",
      "AR.1            1.5374           -0.4340j            1.5975           -0.0438\n",
      "AR.2            1.5374           +0.4340j            1.5975            0.0438\n",
      "-----------------------------------------------------------------------------\n"
     ]
    }
   ],
   "source": [
    "# Building and estimating Model 3:\n",
    "## Time trend improves BIC\n",
    "\n",
    "model3=AutoReg(ILINet[\"% WEIGHTED ILI\"],lags=2, exog=ILINet[\"/m/0cycc\"],trend=\"t\")\n",
    "model3_results=model3.fit()\n",
    "print(model3_results.summary())\n",
    "ILINet[\"trends_autoreg_predict\"]=model3_results.predict()"
   ]
  },
  {
   "cell_type": "code",
   "execution_count": 20,
   "id": "43f2d2b1",
   "metadata": {},
   "outputs": [
    {
     "data": {
      "image/png": "[encoded data removed]",
      "text/plain": [
       "<Figure size 640x480 with 1 Axes>"
      ]
     },
     "metadata": {},
     "output_type": "display_data"
    }
   ],
   "source": [
    "plt.plot()\n",
    "plt.plot(ILINet[\"date_x\"], ILINet[\"% WEIGHTED ILI\"], color=\"orange\", label=\"Actual Infection Numbers\")\n",
    "plt.plot(ILINet[\"date_x\"], ILINet[\"autoreg_predict\"], color=\"cornflowerblue\", label=\"One- and Two-Week Lag\")\n",
    "plt.plot(ILINet[\"date_x\"], ILINet[\"trends_predict\"], color=\"springgreen\", label=\"Trending 'Influenza' Search Volume, No Lag\")\n",
    "plt.plot(ILINet[\"date_x\"], ILINet[\"trends_autoreg_predict\"], color=\"lightpink\", label=\"Lags + Google Trend Data\")\n",
    "legend=plt.legend(title=\"Autoregressive Predictions\").get_title().set_fontweight(\"bold\")\n",
    "plt.title(\"Predicting Influenza Infection Numbers\\n using Lag and Google Trends Search Data\")\n",
    "plt.ylabel(\"% Weighted ILI\")\n",
    "plt.xlabel(\"Years (2014-2018)\")\n",
    "plt.tight_layout()\n",
    "plt.show()"
   ]
  },
  {
   "cell_type": "markdown",
   "id": "b93b3727",
   "metadata": {},
   "source": [
    "#### Discussion:\n",
    "\n",
    "The chart provides insight into the performance of the three model with respect to the actual infection development.\n",
    "The best performance is provided by the autoregressive prediction using two lags (one- and two-week lag) which aligns very closely to the actual infection numbers. To a certain degree, this also holds for the combined autoregression using the lags and google trend data. However, some small divergences, for example towards the end of 2017, might suggest that the combined model suffers to some extent from overestimations induced by the trend data. This becomes more evident in the regression using only google trend data which predicts infection peaks \"too early\" but also regularly underestimates infection peaks during the winter months (see for example 2015 or 2017)."
   ]
  },
  {
   "cell_type": "markdown",
   "id": "63c881d5",
   "metadata": {},
   "source": [
    "### To learn more\n",
    "#### p-Hacking\n",
    "* Try downloading data for other queries to see if you can improve the fit of your model.\n",
    "    \n",
    "#### Prediction\n",
    "* Download the Google Trends data for 2019, and use your models to predict the values of `% WEIGHTED ILI`. Do the models make good predictions? Which model performs better?"
   ]
  }
 ],
 "metadata": {
  "kernelspec": {
   "display_name": "Python 3",
   "language": "python",
   "name": "python3"
  },
  "language_info": {
   "codemirror_mode": {
    "name": "ipython",
    "version": 3
   },
   "file_extension": ".py",
   "mimetype": "text/x-python",
   "name": "python",
   "nbconvert_exporter": "python",
   "pygments_lexer": "ipython3",
   "version": "3.11.9"
  }
 },
 "nbformat": 4,
 "nbformat_minor": 5
}
