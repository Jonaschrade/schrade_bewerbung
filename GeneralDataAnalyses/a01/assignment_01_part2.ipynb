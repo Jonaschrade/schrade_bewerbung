{
 "cells": [
  {
   "cell_type": "markdown",
   "id": "4379fd43-8c5e-4e2e-a4c5-4f53819b2b0b",
   "metadata": {
    "execution": {
     "iopub.execute_input": "2023-10-12T19:28:58.497573Z",
     "iopub.status.busy": "2023-10-12T19:28:58.496574Z",
     "iopub.status.idle": "2023-10-12T19:28:58.515065Z",
     "shell.execute_reply": "2023-10-12T19:28:58.513545Z",
     "shell.execute_reply.started": "2023-10-12T19:28:58.497573Z"
    },
    "tags": []
   },
   "source": [
    "<div style=\"text-align: center;\" >\n",
    "<h1 style=\"margin-top: 0.2em; margin-bottom: 0.1em;\">Introduction to Computation for the Social Sciences</h1>\n",
    "<h2 style=\"margin-top: 0.7em; margin-bottom: 0.3em;\">Assignment 1</h2>\n",
    "<h3 style=\"margin-top: 0.7em; margin-bottom: 0.3em;\">Deadline Part 1: Oct 29, 23:59</h3>\n",
    "<h3 style=\"margin-top: 0.7em; margin-bottom: 0.3em;\">Deadline Parts 2-4: Nov 10, 23:59</h3>\n",
    "\n",
    "</div>\n",
    "<br>"
   ]
  },
  {
   "cell_type": "markdown",
   "id": "7f1e2332-b04b-4772-a791-6239188ce41a",
   "metadata": {},
   "source": [
    "<h4 style=\"margin-top: 0.7em; margin-bottom: 0.3em; font-style:italic\">\n",
    "Please push your solutions to your personal repository in our <a href='https://classroom.github.com/a/tGD_7t85'>GitHub Classroom</a></h4><br>\n",
    "\n",
    "***"
   ]
  },
  {
   "cell_type": "markdown",
   "id": "271d6d5c-c2cf-4417-a79b-720c491d9d6b",
   "metadata": {},
   "source": [
    "<h3>Part 1 - GitHub Setup</h3>\n"
   ]
  },
  {
   "cell_type": "markdown",
   "id": "b37d054a",
   "metadata": {},
   "source": [
    "If you got this second part, the first part of the assignment obviously worked. Well done!"
   ]
  },
  {
   "cell_type": "markdown",
   "id": "ec7d227c-6957-4681-8f3a-760fba6917d6",
   "metadata": {},
   "source": [
    "***"
   ]
  },
  {
   "cell_type": "markdown",
   "id": "72c6e642-70a4-4326-b010-71123fcca713",
   "metadata": {},
   "source": [
    "<h1>Deadline for the following Parts (2-4) is November 10, 2024</h1>"
   ]
  },
  {
   "cell_type": "markdown",
   "id": "76fb5f81-af9b-4fe8-90d3-4fc34212f791",
   "metadata": {},
   "source": [
    "<h3>Part 2 - Pandas Data Frames and Data Visualization</h3>"
   ]
  },
  {
   "cell_type": "markdown",
   "id": "b03adeee-97c5-4c67-9de1-02b7a1afb27d",
   "metadata": {},
   "source": [
    "<h4>Task 5</h4>"
   ]
  },
  {
   "cell_type": "markdown",
   "id": "f1bc8d61-b48b-45c2-bf20-35fac60bdc2f",
   "metadata": {},
   "source": [
    "***a) Import the csv-file on world population***\n",
    "\n",
    "In the Git Hub, where you pulled the assignment, you were also provided two csv-files. Please import the file on world population and store it as a data frame. Remember to load the pandas library first. "
   ]
  },
  {
   "cell_type": "code",
   "execution_count": 9,
   "id": "9f97d906",
   "metadata": {},
   "outputs": [],
   "source": [
    "# Import first data set\n",
    "\n",
    "import pandas as pd\n",
    "\n",
    "wrld_pop = pd.read_csv(\"world-population-by-country-2020.csv\")"
   ]
  },
  {
   "cell_type": "markdown",
   "id": "f6a44194-c785-419d-a0b7-846b712b171c",
   "metadata": {},
   "source": [
    "***b) Data Types***\n",
    "\n",
    "Familiarize yourself with the data on world population per country. \n",
    "\n",
    "Often, it might be useful to rename some columns or change the data type of values.\n",
    "Therefore, investigate what data types do the different columns have.\n"
   ]
  },
  {
   "cell_type": "code",
   "execution_count": 10,
   "id": "699b7732",
   "metadata": {
    "tags": []
   },
   "outputs": [
    {
     "name": "stdout",
     "output_type": "stream",
     "text": [
      "<class 'pandas.core.frame.DataFrame'>\n",
      "RangeIndex: 235 entries, 0 to 234\n",
      "Data columns (total 12 columns):\n",
      " #   Column                   Non-Null Count  Dtype \n",
      "---  ------                   --------------  ----- \n",
      " 0   no                       235 non-null    int64 \n",
      " 1   Country (or dependency)  235 non-null    object\n",
      " 2   Population 2020          235 non-null    object\n",
      " 3   Yearly Change            235 non-null    object\n",
      " 4   Net Change               235 non-null    object\n",
      " 5   Density  (P/Km²)         235 non-null    object\n",
      " 6   Land Area (Km²)          235 non-null    object\n",
      " 7   Migrants (net)           201 non-null    object\n",
      " 8   Fert. Rate               235 non-null    object\n",
      " 9   Med. Age                 235 non-null    object\n",
      " 10  Urban Pop %              235 non-null    object\n",
      " 11  World Share              235 non-null    object\n",
      "dtypes: int64(1), object(11)\n",
      "memory usage: 22.2+ KB\n"
     ]
    }
   ],
   "source": [
    "# Checking data types\n",
    "\n",
    "wrld_pop.info()"
   ]
  },
  {
   "cell_type": "markdown",
   "id": "ed6a0d4d",
   "metadata": {},
   "source": [
    "Rename the columns using the following dictionary:\n",
    "\n",
    "`{'no' : 'Nr.', 'Country (or dependency)' : 'Country', 'Population 2020' : 'Population', 'Yearly Change' : 'Yearly_%_Change',\n",
    "'Net Change' : 'Net_Change', 'Density  (P/Km²)' : 'Density', 'Land Area (Km²)' : 'Area', 'Migrants (net)' : 'Net_Migrants',\n",
    "'Fert. Rate' : 'Fert_Rate', 'Med. Age' : 'Median_Age', 'Urban Pop %' : 'Urban_Pop_%', 'World Share' : 'World_Share'}`"
   ]
  },
  {
   "cell_type": "code",
   "execution_count": 11,
   "id": "4cd1b19b",
   "metadata": {},
   "outputs": [],
   "source": [
    "# Renaming columns\n",
    "\n",
    "wrld_pop.rename({'no' : 'Nr.', 'Country (or dependency)' : 'Country', 'Population 2020' : 'Population', 'Yearly Change' : 'Yearly_%_Change',\n",
    "'Net Change' : 'Net_Change', 'Density  (P/Km²)' : 'Density', 'Land Area (Km²)' : 'Area', 'Migrants (net)' : 'Net_Migrants',\n",
    "'Fert. Rate' : 'Fert_Rate', 'Med. Age' : 'Median_Age', 'Urban Pop %' : 'Urban_Pop_%', 'World Share' : 'World_Share'}, inplace=True)"
   ]
  },
  {
   "cell_type": "markdown",
   "id": "a654e170-bb43-4af6-8230-0643a9bb28f3",
   "metadata": {},
   "source": [
    "***c) Filter out all counties, that have missing values somewhere in the table. Do they contribute a relevant share to the world-population? If not, simply drop these rows (countires)***\n"
   ]
  },
  {
   "cell_type": "code",
   "execution_count": 12,
   "id": "57f2145b",
   "metadata": {},
   "outputs": [
    {
     "name": "stdout",
     "output_type": "stream",
     "text": [
      "41 of 235 countries have NA. This share is relatively small and can be dropped.\n"
     ]
    },
    {
     "data": {
      "text/html": [
       "<div>\n",
       "<style scoped>\n",
       "    .dataframe tbody tr th:only-of-type {\n",
       "        vertical-align: middle;\n",
       "    }\n",
       "\n",
       "    .dataframe tbody tr th {\n",
       "        vertical-align: top;\n",
       "    }\n",
       "\n",
       "    .dataframe thead th {\n",
       "        text-align: right;\n",
       "    }\n",
       "</style>\n",
       "<table border=\"1\" class=\"dataframe\">\n",
       "  <thead>\n",
       "    <tr style=\"text-align: right;\">\n",
       "      <th></th>\n",
       "      <th>no</th>\n",
       "      <th>Country (or dependency)</th>\n",
       "      <th>Population 2020</th>\n",
       "      <th>Yearly Change</th>\n",
       "      <th>Net Change</th>\n",
       "      <th>Density  (P/Km²)</th>\n",
       "      <th>Land Area (Km²)</th>\n",
       "      <th>Migrants (net)</th>\n",
       "      <th>Fert. Rate</th>\n",
       "      <th>Med. Age</th>\n",
       "      <th>Urban Pop %</th>\n",
       "      <th>World Share</th>\n",
       "    </tr>\n",
       "  </thead>\n",
       "  <tbody>\n",
       "    <tr>\n",
       "      <th>0</th>\n",
       "      <td>1</td>\n",
       "      <td>China</td>\n",
       "      <td>1,439,323,776</td>\n",
       "      <td>0.39%</td>\n",
       "      <td>5,540,090</td>\n",
       "      <td>153</td>\n",
       "      <td>9,388,211</td>\n",
       "      <td>-348,399</td>\n",
       "      <td>1.7</td>\n",
       "      <td>38</td>\n",
       "      <td>61%</td>\n",
       "      <td>18.47%</td>\n",
       "    </tr>\n",
       "    <tr>\n",
       "      <th>1</th>\n",
       "      <td>2</td>\n",
       "      <td>India</td>\n",
       "      <td>1,380,004,385</td>\n",
       "      <td>0.99%</td>\n",
       "      <td>13,586,631</td>\n",
       "      <td>464</td>\n",
       "      <td>2,973,190</td>\n",
       "      <td>-532,687</td>\n",
       "      <td>2.2</td>\n",
       "      <td>28</td>\n",
       "      <td>35%</td>\n",
       "      <td>17.70%</td>\n",
       "    </tr>\n",
       "    <tr>\n",
       "      <th>2</th>\n",
       "      <td>3</td>\n",
       "      <td>United States</td>\n",
       "      <td>331,002,651</td>\n",
       "      <td>0.59%</td>\n",
       "      <td>1,937,734</td>\n",
       "      <td>36</td>\n",
       "      <td>9,147,420</td>\n",
       "      <td>954,806</td>\n",
       "      <td>1.8</td>\n",
       "      <td>38</td>\n",
       "      <td>83%</td>\n",
       "      <td>4.25%</td>\n",
       "    </tr>\n",
       "    <tr>\n",
       "      <th>3</th>\n",
       "      <td>4</td>\n",
       "      <td>Indonesia</td>\n",
       "      <td>273,523,615</td>\n",
       "      <td>1.07%</td>\n",
       "      <td>2,898,047</td>\n",
       "      <td>151</td>\n",
       "      <td>1,811,570</td>\n",
       "      <td>-98,955</td>\n",
       "      <td>2.3</td>\n",
       "      <td>30</td>\n",
       "      <td>56%</td>\n",
       "      <td>3.51%</td>\n",
       "    </tr>\n",
       "    <tr>\n",
       "      <th>4</th>\n",
       "      <td>5</td>\n",
       "      <td>Pakistan</td>\n",
       "      <td>220,892,340</td>\n",
       "      <td>2.00%</td>\n",
       "      <td>4,327,022</td>\n",
       "      <td>287</td>\n",
       "      <td>770,880</td>\n",
       "      <td>-233,379</td>\n",
       "      <td>3.6</td>\n",
       "      <td>23</td>\n",
       "      <td>35%</td>\n",
       "      <td>2.83%</td>\n",
       "    </tr>\n",
       "    <tr>\n",
       "      <th>...</th>\n",
       "      <td>...</td>\n",
       "      <td>...</td>\n",
       "      <td>...</td>\n",
       "      <td>...</td>\n",
       "      <td>...</td>\n",
       "      <td>...</td>\n",
       "      <td>...</td>\n",
       "      <td>...</td>\n",
       "      <td>...</td>\n",
       "      <td>...</td>\n",
       "      <td>...</td>\n",
       "      <td>...</td>\n",
       "    </tr>\n",
       "    <tr>\n",
       "      <th>196</th>\n",
       "      <td>197</td>\n",
       "      <td>Aruba</td>\n",
       "      <td>106,766</td>\n",
       "      <td>0.43%</td>\n",
       "      <td>452</td>\n",
       "      <td>593</td>\n",
       "      <td>180</td>\n",
       "      <td>201</td>\n",
       "      <td>1.9</td>\n",
       "      <td>41</td>\n",
       "      <td>44%</td>\n",
       "      <td>0.00%</td>\n",
       "    </tr>\n",
       "    <tr>\n",
       "      <th>197</th>\n",
       "      <td>198</td>\n",
       "      <td>Tonga</td>\n",
       "      <td>105,695</td>\n",
       "      <td>1.15%</td>\n",
       "      <td>1,201</td>\n",
       "      <td>147</td>\n",
       "      <td>720</td>\n",
       "      <td>-800</td>\n",
       "      <td>3.6</td>\n",
       "      <td>22</td>\n",
       "      <td>24%</td>\n",
       "      <td>0.00%</td>\n",
       "    </tr>\n",
       "    <tr>\n",
       "      <th>198</th>\n",
       "      <td>199</td>\n",
       "      <td>U.S. Virgin Islands</td>\n",
       "      <td>104,425</td>\n",
       "      <td>-0.15%</td>\n",
       "      <td>-153</td>\n",
       "      <td>298</td>\n",
       "      <td>350</td>\n",
       "      <td>-451</td>\n",
       "      <td>2</td>\n",
       "      <td>43</td>\n",
       "      <td>96%</td>\n",
       "      <td>0.00%</td>\n",
       "    </tr>\n",
       "    <tr>\n",
       "      <th>199</th>\n",
       "      <td>200</td>\n",
       "      <td>Seychelles</td>\n",
       "      <td>98,347</td>\n",
       "      <td>0.62%</td>\n",
       "      <td>608</td>\n",
       "      <td>214</td>\n",
       "      <td>460</td>\n",
       "      <td>-200</td>\n",
       "      <td>2.5</td>\n",
       "      <td>34</td>\n",
       "      <td>56%</td>\n",
       "      <td>0.00%</td>\n",
       "    </tr>\n",
       "    <tr>\n",
       "      <th>200</th>\n",
       "      <td>201</td>\n",
       "      <td>Antigua and Barbuda</td>\n",
       "      <td>97,929</td>\n",
       "      <td>0.84%</td>\n",
       "      <td>811</td>\n",
       "      <td>223</td>\n",
       "      <td>440</td>\n",
       "      <td>0</td>\n",
       "      <td>2</td>\n",
       "      <td>34</td>\n",
       "      <td>26%</td>\n",
       "      <td>0.00%</td>\n",
       "    </tr>\n",
       "  </tbody>\n",
       "</table>\n",
       "<p>194 rows × 12 columns</p>\n",
       "</div>"
      ],
      "text/plain": [
       "      no Country (or dependency) Population 2020 Yearly Change  Net Change  \\\n",
       "0      1                   China   1,439,323,776         0.39%   5,540,090   \n",
       "1      2                   India   1,380,004,385         0.99%  13,586,631   \n",
       "2      3           United States     331,002,651         0.59%   1,937,734   \n",
       "3      4               Indonesia     273,523,615         1.07%   2,898,047   \n",
       "4      5                Pakistan     220,892,340         2.00%   4,327,022   \n",
       "..   ...                     ...             ...           ...         ...   \n",
       "196  197                   Aruba         106,766         0.43%         452   \n",
       "197  198                   Tonga         105,695         1.15%       1,201   \n",
       "198  199     U.S. Virgin Islands         104,425        -0.15%        -153   \n",
       "199  200              Seychelles          98,347         0.62%         608   \n",
       "200  201     Antigua and Barbuda          97,929         0.84%         811   \n",
       "\n",
       "    Density  (P/Km²) Land Area (Km²) Migrants (net) Fert. Rate Med. Age  \\\n",
       "0                153       9,388,211       -348,399        1.7       38   \n",
       "1                464       2,973,190       -532,687        2.2       28   \n",
       "2                 36       9,147,420        954,806        1.8       38   \n",
       "3                151       1,811,570        -98,955        2.3       30   \n",
       "4                287         770,880       -233,379        3.6       23   \n",
       "..               ...             ...            ...        ...      ...   \n",
       "196              593             180            201        1.9       41   \n",
       "197              147             720           -800        3.6       22   \n",
       "198              298             350           -451          2       43   \n",
       "199              214             460           -200        2.5       34   \n",
       "200              223             440              0          2       34   \n",
       "\n",
       "    Urban Pop % World Share  \n",
       "0           61%      18.47%  \n",
       "1           35%      17.70%  \n",
       "2           83%       4.25%  \n",
       "3           56%       3.51%  \n",
       "4           35%       2.83%  \n",
       "..          ...         ...  \n",
       "196         44%       0.00%  \n",
       "197         24%       0.00%  \n",
       "198         96%       0.00%  \n",
       "199         56%       0.00%  \n",
       "200         26%       0.00%  \n",
       "\n",
       "[194 rows x 12 columns]"
      ]
     },
     "execution_count": 12,
     "metadata": {},
     "output_type": "execute_result"
    }
   ],
   "source": [
    "# Deal with NA-rows\n",
    "## The string \"N.A.\" is not automatically recognized as NA. Thus, I declare it as such manually.\n",
    "wrld_pop=wrld_pop.replace(\"N.A.\", pd.NA)\n",
    "## Filtering and printing the sum of countries with NAs.\n",
    "print(wrld_pop.isna().any(axis=1).sum(), \"of 235 countries have NA. This share is relatively small and can be dropped.\")\n",
    "## Dropping NAs\n",
    "wrld_pop.dropna(inplace=True)\n",
    "\n",
    "wrld_pop\n"
   ]
  },
  {
   "cell_type": "markdown",
   "id": "648db0ce",
   "metadata": {},
   "source": [
    "***d) Change the data type of all numeric columns to int (or float). Find a way to deal with the percentage-columns and comma.***\n"
   ]
  },
  {
   "cell_type": "code",
   "execution_count": 13,
   "id": "554268a9",
   "metadata": {},
   "outputs": [
    {
     "data": {
      "text/plain": [
       "no                         float64\n",
       "Country (or dependency)     object\n",
       "Population 2020            float64\n",
       "Yearly Change              float64\n",
       "Net Change                 float64\n",
       "Density  (P/Km²)           float64\n",
       "Land Area (Km²)            float64\n",
       "Migrants (net)             float64\n",
       "Fert. Rate                 float64\n",
       "Med. Age                   float64\n",
       "Urban Pop %                float64\n",
       "World Share                float64\n",
       "dtype: object"
      ]
     },
     "execution_count": 13,
     "metadata": {},
     "output_type": "execute_result"
    }
   ],
   "source": [
    "# Changing data types\n",
    "\n",
    "## This approach is handy, yet it works.\n",
    "\n",
    "## Handling percentages\n",
    "wrld_pop[\"Yearly Change\"]=wrld_pop[\"Yearly Change\"].str.replace(\"%\",\"\").astype(float).divide(100)\n",
    "wrld_pop[\"Urban Pop %\"]=wrld_pop[\"Urban Pop %\"].str.replace(\"%\",\"\").astype(float).divide(100)\n",
    "wrld_pop[\"World Share\"]=wrld_pop[\"World Share\"].str.replace(\"%\",\"\").astype(float).divide(100)\n",
    "\n",
    "## Handling comma\n",
    "wrld_pop[\"Population 2020\"]=wrld_pop[\"Population 2020\"].str.replace(\",\",\"\").astype(float)\n",
    "wrld_pop[\"Net Change\"]=wrld_pop[\"Net Change\"].str.replace(\",\",\"\").astype(float)\n",
    "wrld_pop[\"Density  (P/Km²)\"]=wrld_pop[\"Density  (P/Km²)\"].str.replace(\",\",\"\").astype(float)\n",
    "wrld_pop[\"Land Area (Km²)\"]=wrld_pop[\"Land Area (Km²)\"].str.replace(\",\",\"\").astype(float)\n",
    "wrld_pop[\"Migrants (net)\"]=wrld_pop[\"Migrants (net)\"].str.replace(\",\",\"\").astype(float)\n",
    "\n",
    "## The rest\n",
    "wrld_pop[\"Med. Age\"]=wrld_pop[\"Med. Age\"].astype(float)\n",
    "wrld_pop[\"Fert. Rate\"]=wrld_pop[\"Fert. Rate\"].astype(float)\n",
    "wrld_pop[\"no\"]=wrld_pop[\"no\"].astype(float)\n",
    "\n",
    "\n",
    "wrld_pop.dtypes\n"
   ]
  },
  {
   "cell_type": "markdown",
   "id": "fcc13ec4",
   "metadata": {},
   "source": [
    "***e) Import the second csv-file containing countries, their capital and continent. For nice visualisations later, please merge the information on continents on to your population-data-frame.***\n",
    "\n",
    "*Hint: use the pandas function `.merge()` and see the documentation [here](https://pandas.pydata.org/docs/reference/api/pandas.DataFrame.merge.html) for details*."
   ]
  },
  {
   "cell_type": "code",
   "execution_count": 14,
   "id": "46351733",
   "metadata": {},
   "outputs": [
    {
     "data": {
      "text/html": [
       "<div>\n",
       "<style scoped>\n",
       "    .dataframe tbody tr th:only-of-type {\n",
       "        vertical-align: middle;\n",
       "    }\n",
       "\n",
       "    .dataframe tbody tr th {\n",
       "        vertical-align: top;\n",
       "    }\n",
       "\n",
       "    .dataframe thead th {\n",
       "        text-align: right;\n",
       "    }\n",
       "</style>\n",
       "<table border=\"1\" class=\"dataframe\">\n",
       "  <thead>\n",
       "    <tr style=\"text-align: right;\">\n",
       "      <th></th>\n",
       "      <th>no</th>\n",
       "      <th>Country (or dependency)</th>\n",
       "      <th>Population 2020</th>\n",
       "      <th>Yearly Change</th>\n",
       "      <th>Net Change</th>\n",
       "      <th>Density  (P/Km²)</th>\n",
       "      <th>Land Area (Km²)</th>\n",
       "      <th>Migrants (net)</th>\n",
       "      <th>Fert. Rate</th>\n",
       "      <th>Med. Age</th>\n",
       "      <th>Urban Pop %</th>\n",
       "      <th>World Share</th>\n",
       "      <th>Capital</th>\n",
       "      <th>Continent</th>\n",
       "    </tr>\n",
       "  </thead>\n",
       "  <tbody>\n",
       "    <tr>\n",
       "      <th>0</th>\n",
       "      <td>1.0</td>\n",
       "      <td>China</td>\n",
       "      <td>1.439324e+09</td>\n",
       "      <td>0.0039</td>\n",
       "      <td>5540090.0</td>\n",
       "      <td>153.0</td>\n",
       "      <td>9388211.0</td>\n",
       "      <td>-348399.0</td>\n",
       "      <td>1.7</td>\n",
       "      <td>38.0</td>\n",
       "      <td>0.61</td>\n",
       "      <td>0.1847</td>\n",
       "      <td>Beijing</td>\n",
       "      <td>Asia</td>\n",
       "    </tr>\n",
       "    <tr>\n",
       "      <th>1</th>\n",
       "      <td>2.0</td>\n",
       "      <td>India</td>\n",
       "      <td>1.380004e+09</td>\n",
       "      <td>0.0099</td>\n",
       "      <td>13586631.0</td>\n",
       "      <td>464.0</td>\n",
       "      <td>2973190.0</td>\n",
       "      <td>-532687.0</td>\n",
       "      <td>2.2</td>\n",
       "      <td>28.0</td>\n",
       "      <td>0.35</td>\n",
       "      <td>0.1770</td>\n",
       "      <td>New Delhi</td>\n",
       "      <td>Asia</td>\n",
       "    </tr>\n",
       "    <tr>\n",
       "      <th>2</th>\n",
       "      <td>3.0</td>\n",
       "      <td>United States</td>\n",
       "      <td>3.310027e+08</td>\n",
       "      <td>0.0059</td>\n",
       "      <td>1937734.0</td>\n",
       "      <td>36.0</td>\n",
       "      <td>9147420.0</td>\n",
       "      <td>954806.0</td>\n",
       "      <td>1.8</td>\n",
       "      <td>38.0</td>\n",
       "      <td>0.83</td>\n",
       "      <td>0.0425</td>\n",
       "      <td>Washington, D.C.</td>\n",
       "      <td>North America</td>\n",
       "    </tr>\n",
       "    <tr>\n",
       "      <th>3</th>\n",
       "      <td>4.0</td>\n",
       "      <td>Indonesia</td>\n",
       "      <td>2.735236e+08</td>\n",
       "      <td>0.0107</td>\n",
       "      <td>2898047.0</td>\n",
       "      <td>151.0</td>\n",
       "      <td>1811570.0</td>\n",
       "      <td>-98955.0</td>\n",
       "      <td>2.3</td>\n",
       "      <td>30.0</td>\n",
       "      <td>0.56</td>\n",
       "      <td>0.0351</td>\n",
       "      <td>Jakarta</td>\n",
       "      <td>Asia</td>\n",
       "    </tr>\n",
       "    <tr>\n",
       "      <th>4</th>\n",
       "      <td>5.0</td>\n",
       "      <td>Pakistan</td>\n",
       "      <td>2.208923e+08</td>\n",
       "      <td>0.0200</td>\n",
       "      <td>4327022.0</td>\n",
       "      <td>287.0</td>\n",
       "      <td>770880.0</td>\n",
       "      <td>-233379.0</td>\n",
       "      <td>3.6</td>\n",
       "      <td>23.0</td>\n",
       "      <td>0.35</td>\n",
       "      <td>0.0283</td>\n",
       "      <td>Islamabad</td>\n",
       "      <td>Asia</td>\n",
       "    </tr>\n",
       "    <tr>\n",
       "      <th>...</th>\n",
       "      <td>...</td>\n",
       "      <td>...</td>\n",
       "      <td>...</td>\n",
       "      <td>...</td>\n",
       "      <td>...</td>\n",
       "      <td>...</td>\n",
       "      <td>...</td>\n",
       "      <td>...</td>\n",
       "      <td>...</td>\n",
       "      <td>...</td>\n",
       "      <td>...</td>\n",
       "      <td>...</td>\n",
       "      <td>...</td>\n",
       "      <td>...</td>\n",
       "    </tr>\n",
       "    <tr>\n",
       "      <th>189</th>\n",
       "      <td>197.0</td>\n",
       "      <td>Aruba</td>\n",
       "      <td>1.067660e+05</td>\n",
       "      <td>0.0043</td>\n",
       "      <td>452.0</td>\n",
       "      <td>593.0</td>\n",
       "      <td>180.0</td>\n",
       "      <td>201.0</td>\n",
       "      <td>1.9</td>\n",
       "      <td>41.0</td>\n",
       "      <td>0.44</td>\n",
       "      <td>0.0000</td>\n",
       "      <td>Oranjestad</td>\n",
       "      <td>North America</td>\n",
       "    </tr>\n",
       "    <tr>\n",
       "      <th>190</th>\n",
       "      <td>198.0</td>\n",
       "      <td>Tonga</td>\n",
       "      <td>1.056950e+05</td>\n",
       "      <td>0.0115</td>\n",
       "      <td>1201.0</td>\n",
       "      <td>147.0</td>\n",
       "      <td>720.0</td>\n",
       "      <td>-800.0</td>\n",
       "      <td>3.6</td>\n",
       "      <td>22.0</td>\n",
       "      <td>0.24</td>\n",
       "      <td>0.0000</td>\n",
       "      <td>Nuku'alofa</td>\n",
       "      <td>Oceania</td>\n",
       "    </tr>\n",
       "    <tr>\n",
       "      <th>191</th>\n",
       "      <td>199.0</td>\n",
       "      <td>U.S. Virgin Islands</td>\n",
       "      <td>1.044250e+05</td>\n",
       "      <td>-0.0015</td>\n",
       "      <td>-153.0</td>\n",
       "      <td>298.0</td>\n",
       "      <td>350.0</td>\n",
       "      <td>-451.0</td>\n",
       "      <td>2.0</td>\n",
       "      <td>43.0</td>\n",
       "      <td>0.96</td>\n",
       "      <td>0.0000</td>\n",
       "      <td>NaN</td>\n",
       "      <td>NaN</td>\n",
       "    </tr>\n",
       "    <tr>\n",
       "      <th>192</th>\n",
       "      <td>200.0</td>\n",
       "      <td>Seychelles</td>\n",
       "      <td>9.834700e+04</td>\n",
       "      <td>0.0062</td>\n",
       "      <td>608.0</td>\n",
       "      <td>214.0</td>\n",
       "      <td>460.0</td>\n",
       "      <td>-200.0</td>\n",
       "      <td>2.5</td>\n",
       "      <td>34.0</td>\n",
       "      <td>0.56</td>\n",
       "      <td>0.0000</td>\n",
       "      <td>Victoria</td>\n",
       "      <td>Africa</td>\n",
       "    </tr>\n",
       "    <tr>\n",
       "      <th>193</th>\n",
       "      <td>201.0</td>\n",
       "      <td>Antigua and Barbuda</td>\n",
       "      <td>9.792900e+04</td>\n",
       "      <td>0.0084</td>\n",
       "      <td>811.0</td>\n",
       "      <td>223.0</td>\n",
       "      <td>440.0</td>\n",
       "      <td>0.0</td>\n",
       "      <td>2.0</td>\n",
       "      <td>34.0</td>\n",
       "      <td>0.26</td>\n",
       "      <td>0.0000</td>\n",
       "      <td>Saint John's</td>\n",
       "      <td>North America</td>\n",
       "    </tr>\n",
       "  </tbody>\n",
       "</table>\n",
       "<p>194 rows × 14 columns</p>\n",
       "</div>"
      ],
      "text/plain": [
       "        no Country (or dependency)  Population 2020  Yearly Change  \\\n",
       "0      1.0                   China     1.439324e+09         0.0039   \n",
       "1      2.0                   India     1.380004e+09         0.0099   \n",
       "2      3.0           United States     3.310027e+08         0.0059   \n",
       "3      4.0               Indonesia     2.735236e+08         0.0107   \n",
       "4      5.0                Pakistan     2.208923e+08         0.0200   \n",
       "..     ...                     ...              ...            ...   \n",
       "189  197.0                   Aruba     1.067660e+05         0.0043   \n",
       "190  198.0                   Tonga     1.056950e+05         0.0115   \n",
       "191  199.0     U.S. Virgin Islands     1.044250e+05        -0.0015   \n",
       "192  200.0              Seychelles     9.834700e+04         0.0062   \n",
       "193  201.0     Antigua and Barbuda     9.792900e+04         0.0084   \n",
       "\n",
       "     Net Change  Density  (P/Km²)  Land Area (Km²)  Migrants (net)  \\\n",
       "0     5540090.0             153.0        9388211.0       -348399.0   \n",
       "1    13586631.0             464.0        2973190.0       -532687.0   \n",
       "2     1937734.0              36.0        9147420.0        954806.0   \n",
       "3     2898047.0             151.0        1811570.0        -98955.0   \n",
       "4     4327022.0             287.0         770880.0       -233379.0   \n",
       "..          ...               ...              ...             ...   \n",
       "189       452.0             593.0            180.0           201.0   \n",
       "190      1201.0             147.0            720.0          -800.0   \n",
       "191      -153.0             298.0            350.0          -451.0   \n",
       "192       608.0             214.0            460.0          -200.0   \n",
       "193       811.0             223.0            440.0             0.0   \n",
       "\n",
       "     Fert. Rate  Med. Age  Urban Pop %  World Share           Capital  \\\n",
       "0           1.7      38.0         0.61       0.1847           Beijing   \n",
       "1           2.2      28.0         0.35       0.1770         New Delhi   \n",
       "2           1.8      38.0         0.83       0.0425  Washington, D.C.   \n",
       "3           2.3      30.0         0.56       0.0351           Jakarta   \n",
       "4           3.6      23.0         0.35       0.0283         Islamabad   \n",
       "..          ...       ...          ...          ...               ...   \n",
       "189         1.9      41.0         0.44       0.0000        Oranjestad   \n",
       "190         3.6      22.0         0.24       0.0000        Nuku'alofa   \n",
       "191         2.0      43.0         0.96       0.0000               NaN   \n",
       "192         2.5      34.0         0.56       0.0000          Victoria   \n",
       "193         2.0      34.0         0.26       0.0000      Saint John's   \n",
       "\n",
       "         Continent  \n",
       "0             Asia  \n",
       "1             Asia  \n",
       "2    North America  \n",
       "3             Asia  \n",
       "4             Asia  \n",
       "..             ...  \n",
       "189  North America  \n",
       "190        Oceania  \n",
       "191            NaN  \n",
       "192         Africa  \n",
       "193  North America  \n",
       "\n",
       "[194 rows x 14 columns]"
      ]
     },
     "execution_count": 14,
     "metadata": {},
     "output_type": "execute_result"
    }
   ],
   "source": [
    "# Merging Data Frames\n",
    "## Reading the csv after re-coding some errorenous symbols by hand\n",
    "ccc = pd.read_csv(\"countries-continents-capitals.csv\", encoding=\"utf-8\")\n",
    "## Merging\n",
    "wrld_pop=wrld_pop.merge(ccc, left_on=\"Country (or dependency)\", right_on=\"Country/Territory\", how =\"left\").drop(columns=[\"Country/Territory\"])\n",
    "wrld_pop"
   ]
  },
  {
   "cell_type": "markdown",
   "id": "6dfaf76c",
   "metadata": {},
   "source": [
    "***f) For some basic descriptive statistics, please find the following countries:***\n",
    "\n",
    "- *Top 5* countries in absolute population numbers\n",
    "- The country with the *highest* population density\n",
    "- The counrty with the *highest* and *lowest* yearly %-change"
   ]
  },
  {
   "cell_type": "code",
   "execution_count": 15,
   "id": "39ab14cb",
   "metadata": {},
   "outputs": [
    {
     "data": {
      "text/html": [
       "<div>\n",
       "<style scoped>\n",
       "    .dataframe tbody tr th:only-of-type {\n",
       "        vertical-align: middle;\n",
       "    }\n",
       "\n",
       "    .dataframe tbody tr th {\n",
       "        vertical-align: top;\n",
       "    }\n",
       "\n",
       "    .dataframe thead th {\n",
       "        text-align: right;\n",
       "    }\n",
       "</style>\n",
       "<table border=\"1\" class=\"dataframe\">\n",
       "  <thead>\n",
       "    <tr style=\"text-align: right;\">\n",
       "      <th></th>\n",
       "      <th>no</th>\n",
       "      <th>Country (or dependency)</th>\n",
       "      <th>Population 2020</th>\n",
       "      <th>Yearly Change</th>\n",
       "      <th>Net Change</th>\n",
       "      <th>Density  (P/Km²)</th>\n",
       "      <th>Land Area (Km²)</th>\n",
       "      <th>Migrants (net)</th>\n",
       "      <th>Fert. Rate</th>\n",
       "      <th>Med. Age</th>\n",
       "      <th>Urban Pop %</th>\n",
       "      <th>World Share</th>\n",
       "      <th>Capital</th>\n",
       "      <th>Continent</th>\n",
       "    </tr>\n",
       "  </thead>\n",
       "  <tbody>\n",
       "    <tr>\n",
       "      <th>0</th>\n",
       "      <td>1.0</td>\n",
       "      <td>China</td>\n",
       "      <td>1.439324e+09</td>\n",
       "      <td>0.0039</td>\n",
       "      <td>5540090.0</td>\n",
       "      <td>153.0</td>\n",
       "      <td>9388211.0</td>\n",
       "      <td>-348399.0</td>\n",
       "      <td>1.7</td>\n",
       "      <td>38.0</td>\n",
       "      <td>0.61</td>\n",
       "      <td>0.1847</td>\n",
       "      <td>Beijing</td>\n",
       "      <td>Asia</td>\n",
       "    </tr>\n",
       "    <tr>\n",
       "      <th>1</th>\n",
       "      <td>2.0</td>\n",
       "      <td>India</td>\n",
       "      <td>1.380004e+09</td>\n",
       "      <td>0.0099</td>\n",
       "      <td>13586631.0</td>\n",
       "      <td>464.0</td>\n",
       "      <td>2973190.0</td>\n",
       "      <td>-532687.0</td>\n",
       "      <td>2.2</td>\n",
       "      <td>28.0</td>\n",
       "      <td>0.35</td>\n",
       "      <td>0.1770</td>\n",
       "      <td>New Delhi</td>\n",
       "      <td>Asia</td>\n",
       "    </tr>\n",
       "    <tr>\n",
       "      <th>2</th>\n",
       "      <td>3.0</td>\n",
       "      <td>United States</td>\n",
       "      <td>3.310027e+08</td>\n",
       "      <td>0.0059</td>\n",
       "      <td>1937734.0</td>\n",
       "      <td>36.0</td>\n",
       "      <td>9147420.0</td>\n",
       "      <td>954806.0</td>\n",
       "      <td>1.8</td>\n",
       "      <td>38.0</td>\n",
       "      <td>0.83</td>\n",
       "      <td>0.0425</td>\n",
       "      <td>Washington, D.C.</td>\n",
       "      <td>North America</td>\n",
       "    </tr>\n",
       "    <tr>\n",
       "      <th>3</th>\n",
       "      <td>4.0</td>\n",
       "      <td>Indonesia</td>\n",
       "      <td>2.735236e+08</td>\n",
       "      <td>0.0107</td>\n",
       "      <td>2898047.0</td>\n",
       "      <td>151.0</td>\n",
       "      <td>1811570.0</td>\n",
       "      <td>-98955.0</td>\n",
       "      <td>2.3</td>\n",
       "      <td>30.0</td>\n",
       "      <td>0.56</td>\n",
       "      <td>0.0351</td>\n",
       "      <td>Jakarta</td>\n",
       "      <td>Asia</td>\n",
       "    </tr>\n",
       "    <tr>\n",
       "      <th>4</th>\n",
       "      <td>5.0</td>\n",
       "      <td>Pakistan</td>\n",
       "      <td>2.208923e+08</td>\n",
       "      <td>0.0200</td>\n",
       "      <td>4327022.0</td>\n",
       "      <td>287.0</td>\n",
       "      <td>770880.0</td>\n",
       "      <td>-233379.0</td>\n",
       "      <td>3.6</td>\n",
       "      <td>23.0</td>\n",
       "      <td>0.35</td>\n",
       "      <td>0.0283</td>\n",
       "      <td>Islamabad</td>\n",
       "      <td>Asia</td>\n",
       "    </tr>\n",
       "  </tbody>\n",
       "</table>\n",
       "</div>"
      ],
      "text/plain": [
       "    no Country (or dependency)  Population 2020  Yearly Change  Net Change  \\\n",
       "0  1.0                   China     1.439324e+09         0.0039   5540090.0   \n",
       "1  2.0                   India     1.380004e+09         0.0099  13586631.0   \n",
       "2  3.0           United States     3.310027e+08         0.0059   1937734.0   \n",
       "3  4.0               Indonesia     2.735236e+08         0.0107   2898047.0   \n",
       "4  5.0                Pakistan     2.208923e+08         0.0200   4327022.0   \n",
       "\n",
       "   Density  (P/Km²)  Land Area (Km²)  Migrants (net)  Fert. Rate  Med. Age  \\\n",
       "0             153.0        9388211.0       -348399.0         1.7      38.0   \n",
       "1             464.0        2973190.0       -532687.0         2.2      28.0   \n",
       "2              36.0        9147420.0        954806.0         1.8      38.0   \n",
       "3             151.0        1811570.0        -98955.0         2.3      30.0   \n",
       "4             287.0         770880.0       -233379.0         3.6      23.0   \n",
       "\n",
       "   Urban Pop %  World Share           Capital      Continent  \n",
       "0         0.61       0.1847           Beijing           Asia  \n",
       "1         0.35       0.1770         New Delhi           Asia  \n",
       "2         0.83       0.0425  Washington, D.C.  North America  \n",
       "3         0.56       0.0351           Jakarta           Asia  \n",
       "4         0.35       0.0283         Islamabad           Asia  "
      ]
     },
     "execution_count": 15,
     "metadata": {},
     "output_type": "execute_result"
    }
   ],
   "source": [
    "# 1. top 5\n",
    "\n",
    "wrld_pop.sort_values(\"Population 2020\", ascending= False).head(5)\n"
   ]
  },
  {
   "cell_type": "code",
   "execution_count": 16,
   "id": "cf7f2db0",
   "metadata": {},
   "outputs": [
    {
     "data": {
      "text/html": [
       "<div>\n",
       "<style scoped>\n",
       "    .dataframe tbody tr th:only-of-type {\n",
       "        vertical-align: middle;\n",
       "    }\n",
       "\n",
       "    .dataframe tbody tr th {\n",
       "        vertical-align: top;\n",
       "    }\n",
       "\n",
       "    .dataframe thead th {\n",
       "        text-align: right;\n",
       "    }\n",
       "</style>\n",
       "<table border=\"1\" class=\"dataframe\">\n",
       "  <thead>\n",
       "    <tr style=\"text-align: right;\">\n",
       "      <th></th>\n",
       "      <th>no</th>\n",
       "      <th>Country (or dependency)</th>\n",
       "      <th>Population 2020</th>\n",
       "      <th>Yearly Change</th>\n",
       "      <th>Net Change</th>\n",
       "      <th>Density  (P/Km²)</th>\n",
       "      <th>Land Area (Km²)</th>\n",
       "      <th>Migrants (net)</th>\n",
       "      <th>Fert. Rate</th>\n",
       "      <th>Med. Age</th>\n",
       "      <th>Urban Pop %</th>\n",
       "      <th>World Share</th>\n",
       "      <th>Capital</th>\n",
       "      <th>Continent</th>\n",
       "    </tr>\n",
       "  </thead>\n",
       "  <tbody>\n",
       "    <tr>\n",
       "      <th>146</th>\n",
       "      <td>152.0</td>\n",
       "      <td>Bahrain</td>\n",
       "      <td>1701575.0</td>\n",
       "      <td>0.0368</td>\n",
       "      <td>60403.0</td>\n",
       "      <td>2239.0</td>\n",
       "      <td>760.0</td>\n",
       "      <td>47800.0</td>\n",
       "      <td>2.0</td>\n",
       "      <td>32.0</td>\n",
       "      <td>0.89</td>\n",
       "      <td>0.0002</td>\n",
       "      <td>Manama</td>\n",
       "      <td>Asia</td>\n",
       "    </tr>\n",
       "  </tbody>\n",
       "</table>\n",
       "</div>"
      ],
      "text/plain": [
       "        no Country (or dependency)  Population 2020  Yearly Change  \\\n",
       "146  152.0                 Bahrain        1701575.0         0.0368   \n",
       "\n",
       "     Net Change  Density  (P/Km²)  Land Area (Km²)  Migrants (net)  \\\n",
       "146     60403.0            2239.0            760.0         47800.0   \n",
       "\n",
       "     Fert. Rate  Med. Age  Urban Pop %  World Share Capital Continent  \n",
       "146         2.0      32.0         0.89       0.0002  Manama      Asia  "
      ]
     },
     "execution_count": 16,
     "metadata": {},
     "output_type": "execute_result"
    }
   ],
   "source": [
    "# 2. max()\n",
    "wrld_pop[wrld_pop[\"Density  (P/Km²)\"]==wrld_pop[\"Density  (P/Km²)\"].max()]"
   ]
  },
  {
   "cell_type": "code",
   "execution_count": 17,
   "id": "3a364036",
   "metadata": {},
   "outputs": [
    {
     "data": {
      "text/html": [
       "<div>\n",
       "<style scoped>\n",
       "    .dataframe tbody tr th:only-of-type {\n",
       "        vertical-align: middle;\n",
       "    }\n",
       "\n",
       "    .dataframe tbody tr th {\n",
       "        vertical-align: top;\n",
       "    }\n",
       "\n",
       "    .dataframe thead th {\n",
       "        text-align: right;\n",
       "    }\n",
       "</style>\n",
       "<table border=\"1\" class=\"dataframe\">\n",
       "  <thead>\n",
       "    <tr style=\"text-align: right;\">\n",
       "      <th></th>\n",
       "      <th>no</th>\n",
       "      <th>Country (or dependency)</th>\n",
       "      <th>Population 2020</th>\n",
       "      <th>Yearly Change</th>\n",
       "      <th>Net Change</th>\n",
       "      <th>Density  (P/Km²)</th>\n",
       "      <th>Land Area (Km²)</th>\n",
       "      <th>Migrants (net)</th>\n",
       "      <th>Fert. Rate</th>\n",
       "      <th>Med. Age</th>\n",
       "      <th>Urban Pop %</th>\n",
       "      <th>World Share</th>\n",
       "      <th>Capital</th>\n",
       "      <th>Continent</th>\n",
       "    </tr>\n",
       "  </thead>\n",
       "  <tbody>\n",
       "    <tr>\n",
       "      <th>54</th>\n",
       "      <td>56.0</td>\n",
       "      <td>Niger</td>\n",
       "      <td>24206644.0</td>\n",
       "      <td>0.0384</td>\n",
       "      <td>895929.0</td>\n",
       "      <td>19.0</td>\n",
       "      <td>1266700.0</td>\n",
       "      <td>4000.0</td>\n",
       "      <td>7.0</td>\n",
       "      <td>15.0</td>\n",
       "      <td>0.17</td>\n",
       "      <td>0.0031</td>\n",
       "      <td>Niamey</td>\n",
       "      <td>Africa</td>\n",
       "    </tr>\n",
       "    <tr>\n",
       "      <th>136</th>\n",
       "      <td>142.0</td>\n",
       "      <td>Lithuania</td>\n",
       "      <td>2722289.0</td>\n",
       "      <td>-0.0135</td>\n",
       "      <td>-37338.0</td>\n",
       "      <td>43.0</td>\n",
       "      <td>62674.0</td>\n",
       "      <td>-32780.0</td>\n",
       "      <td>1.7</td>\n",
       "      <td>45.0</td>\n",
       "      <td>0.71</td>\n",
       "      <td>0.0003</td>\n",
       "      <td>Vilnius</td>\n",
       "      <td>Europe</td>\n",
       "    </tr>\n",
       "  </tbody>\n",
       "</table>\n",
       "</div>"
      ],
      "text/plain": [
       "        no Country (or dependency)  Population 2020  Yearly Change  \\\n",
       "54    56.0                   Niger       24206644.0         0.0384   \n",
       "136  142.0               Lithuania        2722289.0        -0.0135   \n",
       "\n",
       "     Net Change  Density  (P/Km²)  Land Area (Km²)  Migrants (net)  \\\n",
       "54     895929.0              19.0        1266700.0          4000.0   \n",
       "136    -37338.0              43.0          62674.0        -32780.0   \n",
       "\n",
       "     Fert. Rate  Med. Age  Urban Pop %  World Share  Capital Continent  \n",
       "54          7.0      15.0         0.17       0.0031   Niamey    Africa  \n",
       "136         1.7      45.0         0.71       0.0003  Vilnius    Europe  "
      ]
     },
     "execution_count": 17,
     "metadata": {},
     "output_type": "execute_result"
    }
   ],
   "source": [
    "# 3. max() and min()\n",
    "\n",
    "wrld_pop[(wrld_pop[\"Yearly Change\"]==wrld_pop[\"Yearly Change\"].max()) | (wrld_pop[\"Yearly Change\"]==wrld_pop[\"Yearly Change\"].min()) ]"
   ]
  },
  {
   "cell_type": "markdown",
   "id": "db39203d",
   "metadata": {},
   "source": [
    "***g) Find the absolute population number, the mean population and %-share among the world-population, when grouping the countires on continent. Save the resulting table into a separate data frame.***\n",
    " "
   ]
  },
  {
   "cell_type": "code",
   "execution_count": 19,
   "id": "12936bd7",
   "metadata": {},
   "outputs": [
    {
     "data": {
      "text/html": [
       "<div>\n",
       "<style scoped>\n",
       "    .dataframe tbody tr th:only-of-type {\n",
       "        vertical-align: middle;\n",
       "    }\n",
       "\n",
       "    .dataframe tbody tr th {\n",
       "        vertical-align: top;\n",
       "    }\n",
       "\n",
       "    .dataframe thead th {\n",
       "        text-align: right;\n",
       "    }\n",
       "</style>\n",
       "<table border=\"1\" class=\"dataframe\">\n",
       "  <thead>\n",
       "    <tr style=\"text-align: right;\">\n",
       "      <th></th>\n",
       "      <th>Continent</th>\n",
       "      <th>abs_pop</th>\n",
       "      <th>mean_pop</th>\n",
       "      <th>share_pop</th>\n",
       "    </tr>\n",
       "  </thead>\n",
       "  <tbody>\n",
       "    <tr>\n",
       "      <th>0</th>\n",
       "      <td>Africa</td>\n",
       "      <td>1.307025e+09</td>\n",
       "      <td>2.513510e+07</td>\n",
       "      <td>0.1676</td>\n",
       "    </tr>\n",
       "    <tr>\n",
       "      <th>1</th>\n",
       "      <td>Asia</td>\n",
       "      <td>4.616479e+09</td>\n",
       "      <td>1.025884e+08</td>\n",
       "      <td>0.5924</td>\n",
       "    </tr>\n",
       "    <tr>\n",
       "      <th>2</th>\n",
       "      <td>Europe</td>\n",
       "      <td>7.376036e+08</td>\n",
       "      <td>1.891291e+07</td>\n",
       "      <td>0.0946</td>\n",
       "    </tr>\n",
       "    <tr>\n",
       "      <th>3</th>\n",
       "      <td>North America</td>\n",
       "      <td>5.879094e+08</td>\n",
       "      <td>2.672316e+07</td>\n",
       "      <td>0.0755</td>\n",
       "    </tr>\n",
       "    <tr>\n",
       "      <th>4</th>\n",
       "      <td>Oceania</td>\n",
       "      <td>4.286727e+07</td>\n",
       "      <td>3.297482e+06</td>\n",
       "      <td>0.0053</td>\n",
       "    </tr>\n",
       "    <tr>\n",
       "      <th>5</th>\n",
       "      <td>South America</td>\n",
       "      <td>4.023203e+08</td>\n",
       "      <td>3.352670e+07</td>\n",
       "      <td>0.0516</td>\n",
       "    </tr>\n",
       "  </tbody>\n",
       "</table>\n",
       "</div>"
      ],
      "text/plain": [
       "       Continent       abs_pop      mean_pop  share_pop\n",
       "0         Africa  1.307025e+09  2.513510e+07     0.1676\n",
       "1           Asia  4.616479e+09  1.025884e+08     0.5924\n",
       "2         Europe  7.376036e+08  1.891291e+07     0.0946\n",
       "3  North America  5.879094e+08  2.672316e+07     0.0755\n",
       "4        Oceania  4.286727e+07  3.297482e+06     0.0053\n",
       "5  South America  4.023203e+08  3.352670e+07     0.0516"
      ]
     },
     "execution_count": 19,
     "metadata": {},
     "output_type": "execute_result"
    }
   ],
   "source": [
    "# Solution\n",
    "continents=wrld_pop.groupby(\"Continent\").agg(\n",
    "    abs_pop = (\"Population 2020\", \"sum\"),\n",
    "    mean_pop = (\"Population 2020\", \"mean\"),\n",
    "    share_pop = (\"World Share\", \"sum\")\n",
    ").reset_index()\n",
    "\n",
    "continents\n"
   ]
  },
  {
   "cell_type": "markdown",
   "id": "46f65df0",
   "metadata": {},
   "source": [
    "***h) Plot the absolute population per continent in descending order, using a bar chart. Don't forget to add a header, axis-labels, a legend (if required) and so on.***\n",
    " "
   ]
  },
  {
   "cell_type": "code",
   "execution_count": 27,
   "id": "301895a4",
   "metadata": {},
   "outputs": [
    {
     "data": {
      "text/plain": [
       "<Axes: title={'center': 'Absolute Population per Continent'}, xlabel='Continent', ylabel='Population in Billions (1e9)'>"
      ]
     },
     "execution_count": 27,
     "metadata": {},
     "output_type": "execute_result"
    },
    {
     "data": {
      "image/png": "[encoded data removed]",
      "text/plain": [
       "<Figure size 640x480 with 1 Axes>"
      ]
     },
     "metadata": {},
     "output_type": "display_data"
    }
   ],
   "source": [
    "# Bar chart\n",
    "\n",
    "continents.sort_values(by=\"abs_pop\", ascending=False).plot(x=\"Continent\", \n",
    "                                                           y=\"abs_pop\",\n",
    "                                                           kind='bar', \n",
    "                                                           xlabel=\"Continent\",\n",
    "                                                           ylabel=\"Population in Billions (1e9)\",\n",
    "                                                           title=\"Absolute Population per Continent\",\n",
    "                                                           legend=False)\n"
   ]
  },
  {
   "cell_type": "markdown",
   "id": "81ae82da",
   "metadata": {},
   "source": [
    "***i) Visualize the distribution of the continents populations by using a violin plot (if you are not familiar with violin plots, read for example [here](https://mode.com/blog/violin-plot-examples/)). Describe your findings from the two plots in 2 - 3 sentences.***"
   ]
  },
  {
   "cell_type": "code",
   "execution_count": null,
   "id": "514436a7",
   "metadata": {},
   "outputs": [
    {
     "name": "stderr",
     "output_type": "stream",
     "text": [
      "C:\\Users\\User\\AppData\\Local\\Temp\\ipykernel_16036\\1079449293.py:7: UserWarning: set_ticklabels() should only be used with a fixed number of ticks, i.e. after set_ticks() or using a FixedLocator.\n",
      "  sns.violinplot(x='Continent', y='Population 2020', data=wrld_pop).set_xticklabels([\"Asia\", \"North Am.\", \"South Am.\", \"Africa\", \"Europe\", \"Oceania\"])\n",
      "C:\\Users\\User\\AppData\\Local\\Temp\\ipykernel_16036\\1079449293.py:13: UserWarning: set_ticklabels() should only be used with a fixed number of ticks, i.e. after set_ticks() or using a FixedLocator.\n",
      "  sns.violinplot(x='Continent', y='Population 2020', data=wrld_pop).set_xticklabels([\"Asia\", \"North Am.\", \"South Am.\", \"Africa\", \"Europe\", \"Oceania\"])\n"
     ]
    },
    {
     "data": {
      "text/plain": [
       "Text(0, 0.5, 'Population in Hundred Millions (1e8)')"
      ]
     },
     "execution_count": 20,
     "metadata": {},
     "output_type": "execute_result"
    },
    {
     "data": {
      "image/png": "[encoded data removed]",
      "text/plain": [
       "<Figure size 640x480 with 1 Axes>"
      ]
     },
     "metadata": {},
     "output_type": "display_data"
    },
    {
     "data": {
      "image/png": "[encoded data removed]",
      "text/plain": [
       "<Figure size 640x480 with 1 Axes>"
      ]
     },
     "metadata": {},
     "output_type": "display_data"
    }
   ],
   "source": [
    "# Violin plot\n",
    "import seaborn as sns\n",
    "import matplotlib.pyplot as plt\n",
    "\n",
    "## Plotting figure without \"zooming\"\n",
    "plt.figure()\n",
    "sns.violinplot(x='Continent', y='Population 2020', data=wrld_pop).set_xticklabels([\"Asia\", \"North Am.\", \"South Am.\", \"Africa\", \"Europe\", \"Oceania\"])\n",
    "plt.title(\"Country Population by Continent\")\n",
    "plt.ylabel(\"Population in Billions (1e9)\")\n",
    "\n",
    "## Plotting figure with \"zooming\" by limiting the y-axis to 1 billion and -500 million, respectively.\n",
    "plt.figure()\n",
    "sns.violinplot(x='Continent', y='Population 2020', data=wrld_pop).set_xticklabels([\"Asia\", \"North Am.\", \"South Am.\", \"Africa\", \"Europe\", \"Oceania\"])\n",
    "plt.ylim(-0.05*10**9, 0.1*10**9)\n",
    "plt.title(\"Country Population by Continent (Zoom)\")\n",
    "plt.ylabel(\"Population in Hundred Millions (1e8)\")\n",
    "\n"
   ]
  },
  {
   "cell_type": "markdown",
   "id": "8c277d18",
   "metadata": {},
   "source": [
    "***Interprete your plot here:***\n",
    "\n",
    "- Asia contributes the largest share to the world’s population by a considerable margin, followed by Africa, Europe, North and South America, and finally Oceania. However, within Asia, there is a wide variation in population sizes among countries, ranging from very large to much smaller populations. In contrast, Africa, Europe, and Oceania exhibit a narrower distribution around the median population size. North and South America also display a broader range of population sizes across their countries, relative to their medians."
   ]
  },
  {
   "cell_type": "markdown",
   "id": "41ffef9b-3dd9-485a-aca9-bf6ccc12ef67",
   "metadata": {},
   "source": [
    "<h3>Part 3 - Lambda Functions and List/Dictionary Comprehension</h3>"
   ]
  },
  {
   "cell_type": "markdown",
   "id": "ce19df07-430c-4f1b-811d-c59d1f6bdf29",
   "metadata": {},
   "source": [
    "<h4>Task 6</h4>"
   ]
  },
  {
   "cell_type": "markdown",
   "id": "67180c2b-85e6-4152-8266-2144efdfc34f",
   "metadata": {},
   "source": [
    "***a) Lambda Functions***\n",
    "\n",
    "Lambda functions are a handy way to define small, helpful functions. The basic syntax was: \n",
    "\n",
    "`lambda <parameter>, … : expression`\n",
    "\n",
    "Use a lambda function to obtain the dictionary representing the person closest to their 50th birthday from a list of dictionaries in the following form (if there are multiple people with the same distance, it is enough to return one):\n"
   ]
  },
  {
   "cell_type": "code",
   "execution_count": 21,
   "id": "3615b84c-0f77-4bdb-9852-08e1ade0911d",
   "metadata": {},
   "outputs": [
    {
     "data": {
      "text/plain": [
       "[{'name': 'Laurie Pineda', 'age': 39},\n",
       " {'name': 'Tommy Harper', 'age': 21},\n",
       " {'name': 'Jeffery Short', 'age': 54}]"
      ]
     },
     "execution_count": 21,
     "metadata": {},
     "output_type": "execute_result"
    }
   ],
   "source": [
    "people = [{'name': 'Laurie Pineda', 'age': 39}, {'name': 'Tommy Harper', 'age': 21}, \n",
    "                    {'name': 'Jeffery Short', 'age': 54}]\n",
    "\n",
    "people  "
   ]
  },
  {
   "cell_type": "code",
   "execution_count": 22,
   "id": "2f1190fd-d2b5-4ad9-b86f-72418782feca",
   "metadata": {},
   "outputs": [
    {
     "data": {
      "text/plain": [
       "{'name': 'Jeffery Short', 'age': 54}"
      ]
     },
     "execution_count": 22,
     "metadata": {},
     "output_type": "execute_result"
    }
   ],
   "source": [
    "# Your solution can go here:\n",
    "\n",
    "## Looking for the smallest difference of age to 50 in the people_list and putting people for which equals their own respective difference into a separate list of which the first (and only) item is returned.\n",
    "birthday= lambda people_lst: [person for person in people_lst if abs(person[\"age\"]-50) == min([abs(person[\"age\"]-50) for person in people_lst])][0]\n",
    "birthday(people)"
   ]
  },
  {
   "cell_type": "markdown",
   "id": "fd716bdf-2edb-4f15-8c61-af5a19ff038f",
   "metadata": {},
   "source": [
    "***b) List Comprehension***\n",
    "\n",
    "We’ve also learned about list comprehension. Here, the syntax was:\n",
    "`L = [<element> for <element> in <list> if <Condition>]`\n",
    "\n",
    "Use list comprehensions to write a Python function `remove_long_words()` that:\n",
    "- accepts a sentence and an integer n as input parameters\n",
    "- uses the split() function of String objects to split the sentence into words\n",
    "- stores the individual words in a list\n",
    "- removes all words that are longer than n characters from the list, thereby creating a new list (*hint:* here, you need to use the list comprehension )\n",
    "- prints the new list\n",
    "\n",
    "Make sure to include comments and a function description."
   ]
  },
  {
   "cell_type": "code",
   "execution_count": 23,
   "id": "a2f24fd9-71f1-42d7-a5d5-18c9b91d7b3b",
   "metadata": {},
   "outputs": [
    {
     "data": {
      "text/plain": [
       "['ist', 'doch', 'kein']"
      ]
     },
     "execution_count": 23,
     "metadata": {},
     "output_type": "execute_result"
    }
   ],
   "source": [
    "# Your solution can go here:\n",
    "## Function remove_long_words recieves the string of a sentence and an integer size-criterion\n",
    "## and returns a list of the words in the sentence that are not longer than the integer.\n",
    "\n",
    "def remove_long_words(sentence, n):\n",
    "    ### Splitting the words of the sentence into a list\n",
    "    words=sentence.split()\n",
    "    ### Filtering words according to the size-criterion by list comprehension\n",
    "    short_words=[word for word in words if len(word)<=n]\n",
    "    ### Returning the filtered list\n",
    "    return(short_words)\n",
    "\n",
    "\n",
    "remove_long_words(\"Pyrotechnik ist doch kein Verbrechen\", 4)"
   ]
  },
  {
   "cell_type": "markdown",
   "id": "8fb7b4fc-55e7-46a5-a4df-75752703bf66",
   "metadata": {},
   "source": [
    "<h4>Task 7 - Social Science Application</h4>\n",
    "\n",
    "\n",
    "***a) Senat Election Predictions***\n",
    "\n",
    "In the GitHub folder for the first assignment, you will find a JSON file containing the US Senate 2022 Midterm Election predictions from fivethirtyeight.com\n",
    "\n",
    "- Open and load the JSON file data into Python\n",
    "- Using list/dictionary comprehension and lambda functions, extract the state-code, name and party affiliation of the candidate with the highest winning probability (``winprob``) in each state.\n",
    "\n",
    "*Hints:*\n",
    "- Start by printing one dictionary (for one state), to get an idea of the nested structure\n",
    "    * Then, try to access each of the requested info for this first dictionary\n",
    "    * When you have the correct info from the first dictionary, built the comprehension, to run over all dictionaries\n",
    "- Ideally, you have one dictionary comprehension, running over all sub-dictionaries and extracting the desired information. Use a lambda-function to always find the candidate with the highest winning probability. \n"
   ]
  },
  {
   "cell_type": "code",
   "execution_count": 24,
   "id": "76d3f91b-b449-4d6b-a448-5810acdb53f1",
   "metadata": {},
   "outputs": [
    {
     "data": {
      "text/plain": [
       "35"
      ]
     },
     "execution_count": 24,
     "metadata": {},
     "output_type": "execute_result"
    }
   ],
   "source": [
    "# Your solution can go here:\n",
    "\n",
    "import json\n",
    "## Importing the data\n",
    "with open(\"senate_predictions_11_08.json\", \"r\") as read_file:\n",
    "    senate_pred= json.load(read_file)\n",
    "\n",
    "## Creating a lambda-function that checks the highest probability of winning for all candidates in a race and selects the name and party of the candidate for which this condition holds true.\n",
    "max_prob=lambda race: [[cand[\"candidate\"], cand[\"party\"]] for cand in race[\"candidates\"] if cand[\"winprob\"] == max([cand[\"winprob\"] for cand in race[\"candidates\"]])][0]\n",
    "## Creating a dictionary that assigns the candidate information selected by the previous function to the corresponding race\n",
    "winprob={a[\"race\"]:max_prob(a) for a in senate_pred[\"races\"]}\n",
    "\n",
    "\n",
    "len(winprob)\n",
    "\n"
   ]
  },
  {
   "cell_type": "markdown",
   "id": "3c9caf67-06f6-4d25-bbf7-c539d36a93a6",
   "metadata": {},
   "source": [
    "***b) Senat Election Results***\n",
    "\n",
    "Additionally, you can find another JSON file with the (preliminary) US Senate Midterm Election results from “cnn.com”.\n",
    "- Also, open and load this data\n",
    "- Using a list/dictionary comprehension and lambda functions, extract the state-code, name and party affiliation of the winner in each state. \n",
    "    * Here, the same hints as in a) apply\n",
    "- Compare the results from the prediction and the result. How many percent of the states were predicted correctly?"
   ]
  },
  {
   "cell_type": "code",
   "execution_count": 26,
   "id": "e4c890a1-938e-4761-89a9-9fd1aeb0168c",
   "metadata": {},
   "outputs": [
    {
     "name": "stdout",
     "output_type": "stream",
     "text": [
      "(('AK-S', ['Kelly Tshibaka', 'R']), ('AK-S3', ['Lisa Murkowski', 'R']), True)\n",
      "(('GA-S', ['Raphael Warnock', 'D']), ('GA-S3', ['Herschel Junior Walker', 'R']), True)\n",
      "(('PA-S', ['John Fetterman', 'D']), ('PA-S3', ['Mehmet Oz', 'R']), True)\n",
      "32 of 35 states ( 91.4 %) were predicted correctly.\n"
     ]
    }
   ],
   "source": [
    "# Your solution can go here:\n",
    "\n",
    "## Loading the data\n",
    "with open(\"senate_results_11_10.json\", \"r\") as read_file:\n",
    "    senate_results= json.load(read_file)\n",
    "\n",
    "## Similar procedure as above but with changed key-names and the selection condition being that the candidate has the highest vote percent.\n",
    "winner=lambda race: [[cand[\"fullName\"], cand[\"candidatePartyCode\"]] for cand in race[\"candidates\"] if float(cand[\"votePercentStr\"]) == max(float(cand[\"votePercentStr\"]) for cand in race[\"candidates\"])][0]\n",
    "win={str(a[\"stateAbbreviation\"]+\"-\"+a[\"raceType\"]):winner(a) for a in senate_results}\n",
    "\n",
    "## Creating a boolean-list that checks if value for a key on index i is the same for both dictionaries\n",
    "pred_list = [list(win.values())[i] == list(winprob.values())[i] for i in range(len(win))]\n",
    "\n",
    "## Checking cases for which predictions were false\n",
    "false_pred=zip(win.items(), winprob.items(), [not i for i in pred_list])\n",
    "\n",
    "for item in false_pred:\n",
    "    if item[2]==True:\n",
    "        print(item)\n",
    "## Some predictions were labeled as false because candidate names were spelled/noted differently in both dictonaries. I adjust this by hand.\n",
    "winprob[\"NV-S3\"]=win[\"NV-S\"]\n",
    "winprob[\"NY-S3\"]=win[\"NY-S\"]\n",
    "winprob[\"OH-S3\"]=win[\"OH-S\"]\n",
    "winprob[\"SD-S3\"]=win[\"SD-S\"]\n",
    "\n",
    "## Finally, assessing the prediction accuracy.\n",
    "print(sum(pred_list),\"of\",len(winprob),\"states (\",round(sum(pred_list)/len(winprob)*100, ndigits=1),\"%) were predicted correctly.\")\n"
   ]
  },
  {
   "cell_type": "markdown",
   "id": "b3b2bc58-9b5d-4713-b7ae-aeecd5a53758",
   "metadata": {},
   "source": [
    "***"
   ]
  },
  {
   "cell_type": "markdown",
   "id": "c63ea9b7-8d3c-419c-8251-80da1ac7e1b1",
   "metadata": {},
   "source": [
    "<h3>Part 4 - Bonus</h3>"
   ]
  },
  {
   "cell_type": "markdown",
   "id": "63437813-4c31-4c07-9705-47f160c612f6",
   "metadata": {},
   "source": [
    "In the lecture, you discussed an algorithm that converts integer numbers in decimal representation to binary representation. You may use any suitable data type as output as long as the resulting number is clearly identifiable.\n",
    "\n",
    "***a) Number Conversion - Part 1***\n",
    "\n",
    "Write a corresponding algorithm decimal_int_to_octal() in Python to convert non-negative integer numbers in decimal representation to octal.\n"
   ]
  },
  {
   "cell_type": "code",
   "execution_count": 27,
   "id": "237af379-0da2-43da-9041-95673660adfc",
   "metadata": {},
   "outputs": [
    {
     "data": {
      "text/plain": [
       "365"
      ]
     },
     "execution_count": 27,
     "metadata": {},
     "output_type": "execute_result"
    }
   ],
   "source": [
    "def decimal_int_to_octal(numb):\n",
    "    ## Creating an empty octal-list\n",
    "    octal=[]\n",
    "    ## Decimal-Octal-Algorithm\n",
    "    while numb>0:\n",
    "        item = numb % 8\n",
    "        octal.append(item)\n",
    "        numb= numb//8\n",
    "    ## Reversing the list, joining the elements into a string and converting said string into an integer that is returned\n",
    "    octal.reverse()\n",
    "    octal=int(\"\".join([str(i) for i in octal]))\n",
    "    return octal\n",
    "decimal_int_to_octal(245)"
   ]
  },
  {
   "cell_type": "markdown",
   "id": "db15efe4-50f3-4db3-895c-ba8413eab281",
   "metadata": {},
   "source": [
    "***b) Number Conversion - Part 2***\n",
    "\n",
    "Develop a more general algorithm decimal_to_octal() that also converts numbers that include decimal places from decimal representation to octal."
   ]
  },
  {
   "cell_type": "code",
   "execution_count": 28,
   "id": "1486edc3-cb09-4b72-b939-e891a618a21f",
   "metadata": {},
   "outputs": [
    {
     "data": {
      "text/plain": [
       "6064.3751361523755"
      ]
     },
     "execution_count": 28,
     "metadata": {},
     "output_type": "execute_result"
    }
   ],
   "source": [
    "def decimal_to_octal(numb):\n",
    "    ## Octal list and separating integer from decimals\n",
    "    octal=[]\n",
    "    numb_int=int(numb)\n",
    "    numb_decimal=numb-int(numb)\n",
    "\n",
    "    ## Decimal-Octal-Algorithm for decimals\n",
    "    while numb_decimal>0:\n",
    "        item=int(numb_decimal*8)\n",
    "        octal.append(item)\n",
    "        numb_decimal=numb_decimal*8-item\n",
    "    octal.reverse()\n",
    "    \n",
    "    ## Adding comma-dot\n",
    "    octal.append(\".\")\n",
    "    \n",
    "    ## Same as above\n",
    "    while numb_int>0:\n",
    "        item = numb_int % 8\n",
    "        octal.append(item)\n",
    "        numb_int= numb_int//8\n",
    "\n",
    "    octal.reverse()\n",
    "    octal=float(\"\".join([str(i) for i in octal]))\n",
    "    return octal\n",
    "\n",
    "decimal_to_octal(3124.4945)"
   ]
  },
  {
   "cell_type": "markdown",
   "id": "35864932-91c2-4142-beb5-1b69ae1581ea",
   "metadata": {},
   "source": [
    "***c) Counting bits***\n",
    "\n",
    "Write a program that counts the number of (non-zero) bits in a nonnegative integer. Do not use strings but bitwise operations (hint: Use bitshifts and masking)."
   ]
  },
  {
   "cell_type": "code",
   "execution_count": null,
   "id": "cf786487-1c9b-4fd2-9c6f-2e2658d69d7a",
   "metadata": {},
   "outputs": [],
   "source": [
    "# No, thank you."
   ]
  }
 ],
 "metadata": {
  "kernelspec": {
   "display_name": "base",
   "language": "python",
   "name": "python3"
  },
  "language_info": {
   "codemirror_mode": {
    "name": "ipython",
    "version": 3
   },
   "file_extension": ".py",
   "mimetype": "text/x-python",
   "name": "python",
   "nbconvert_exporter": "python",
   "pygments_lexer": "ipython3",
   "version": "3.12.4"
  }
 },
 "nbformat": 4,
 "nbformat_minor": 5
}
